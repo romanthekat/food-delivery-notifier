{
 "cells": [
  {
   "cell_type": "raw",
   "metadata": {},
   "source": [
    "%config IPCompleter.greedy=True"
   ]
  },
  {
   "cell_type": "code",
   "execution_count": 1,
   "metadata": {},
   "outputs": [],
   "source": [
    "import pandas as pd\n",
    "import numpy as np\n",
    "import matplotlib.pyplot as plt\n",
    "import geopandas\n",
    "\n",
    "from sklearn.preprocessing import LabelEncoder, StandardScaler\n",
    "from sklearn.model_selection import train_test_split\n",
    "\n",
    "import time\n",
    "import datetime\n",
    "from typing import Dict, Tuple"
   ]
  },
  {
   "cell_type": "markdown",
   "metadata": {},
   "source": [
    "# Load raw data"
   ]
  },
  {
   "cell_type": "code",
   "execution_count": 2,
   "metadata": {},
   "outputs": [],
   "source": [
    "data_raw_filename = \"data_raw_fake.csv\""
   ]
  },
  {
   "cell_type": "code",
   "execution_count": 3,
   "metadata": {},
   "outputs": [],
   "source": [
    "dataset = pd.read_csv(data_raw_filename)"
   ]
  },
  {
   "cell_type": "code",
   "execution_count": 4,
   "metadata": {},
   "outputs": [
    {
     "data": {
      "text/html": [
       "<div>\n",
       "<style scoped>\n",
       "    .dataframe tbody tr th:only-of-type {\n",
       "        vertical-align: middle;\n",
       "    }\n",
       "\n",
       "    .dataframe tbody tr th {\n",
       "        vertical-align: top;\n",
       "    }\n",
       "\n",
       "    .dataframe thead th {\n",
       "        text-align: right;\n",
       "    }\n",
       "</style>\n",
       "<table border=\"1\" class=\"dataframe\">\n",
       "  <thead>\n",
       "    <tr style=\"text-align: right;\">\n",
       "      <th></th>\n",
       "      <th>0</th>\n",
       "      <th>1</th>\n",
       "      <th>2</th>\n",
       "      <th>3</th>\n",
       "      <th>4</th>\n",
       "    </tr>\n",
       "  </thead>\n",
       "  <tbody>\n",
       "    <tr>\n",
       "      <th>date</th>\n",
       "      <td>2020-11-21 13:00:31</td>\n",
       "      <td>2020-11-21 13:32:31</td>\n",
       "      <td>2020-11-21 13:36:12</td>\n",
       "      <td>2020-11-21 13:37:12</td>\n",
       "      <td>2020-11-21 13:38:55</td>\n",
       "    </tr>\n",
       "    <tr>\n",
       "      <th>restaurant</th>\n",
       "      <td>/be/api/restaurants/2</td>\n",
       "      <td>/be/api/restaurants/2</td>\n",
       "      <td>/be/api/restaurants/2</td>\n",
       "      <td>/be/api/restaurants/2</td>\n",
       "      <td>/be/api/restaurants/2</td>\n",
       "    </tr>\n",
       "    <tr>\n",
       "      <th>status</th>\n",
       "      <td>2</td>\n",
       "      <td>2</td>\n",
       "      <td>2</td>\n",
       "      <td>2</td>\n",
       "      <td>2</td>\n",
       "    </tr>\n",
       "    <tr>\n",
       "      <th>total_cost</th>\n",
       "      <td>30.2</td>\n",
       "      <td>30.2</td>\n",
       "      <td>30.2</td>\n",
       "      <td>30.2</td>\n",
       "      <td>30.2</td>\n",
       "    </tr>\n",
       "    <tr>\n",
       "      <th>rest</th>\n",
       "      <td>&amp;{Long:27.554384 Lat:53.890244}</td>\n",
       "      <td>&amp;{Long:27.554384 Lat:53.890244}</td>\n",
       "      <td>&amp;{Long:27.554384 Lat:53.890244}</td>\n",
       "      <td>&amp;{Long:27.554384 Lat:53.890244}</td>\n",
       "      <td>&amp;{Long:27.554384 Lat:53.890244}</td>\n",
       "    </tr>\n",
       "    <tr>\n",
       "      <th>dest</th>\n",
       "      <td>&amp;{Long:27.599731 Lat:53.925205}</td>\n",
       "      <td>&amp;{Long:27.599731 Lat:53.925205}</td>\n",
       "      <td>&amp;{Long:27.599731 Lat:53.925205}</td>\n",
       "      <td>&amp;{Long:27.599731 Lat:53.925205}</td>\n",
       "      <td>&amp;{Long:27.599731 Lat:53.925205}</td>\n",
       "    </tr>\n",
       "    <tr>\n",
       "      <th>courier</th>\n",
       "      <td>&lt;nil&gt;</td>\n",
       "      <td>&lt;nil&gt;</td>\n",
       "      <td>&lt;nil&gt;</td>\n",
       "      <td>&lt;nil&gt;</td>\n",
       "      <td>&lt;nil&gt;</td>\n",
       "    </tr>\n",
       "  </tbody>\n",
       "</table>\n",
       "</div>"
      ],
      "text/plain": [
       "                                          0                                1  \\\n",
       "date                    2020-11-21 13:00:31              2020-11-21 13:32:31   \n",
       "restaurant            /be/api/restaurants/2            /be/api/restaurants/2   \n",
       "status                                    2                                2   \n",
       "total_cost                             30.2                             30.2   \n",
       "rest        &{Long:27.554384 Lat:53.890244}  &{Long:27.554384 Lat:53.890244}   \n",
       "dest        &{Long:27.599731 Lat:53.925205}  &{Long:27.599731 Lat:53.925205}   \n",
       "courier                               <nil>                            <nil>   \n",
       "\n",
       "                                          2                                3  \\\n",
       "date                    2020-11-21 13:36:12              2020-11-21 13:37:12   \n",
       "restaurant            /be/api/restaurants/2            /be/api/restaurants/2   \n",
       "status                                    2                                2   \n",
       "total_cost                             30.2                             30.2   \n",
       "rest        &{Long:27.554384 Lat:53.890244}  &{Long:27.554384 Lat:53.890244}   \n",
       "dest        &{Long:27.599731 Lat:53.925205}  &{Long:27.599731 Lat:53.925205}   \n",
       "courier                               <nil>                            <nil>   \n",
       "\n",
       "                                          4  \n",
       "date                    2020-11-21 13:38:55  \n",
       "restaurant            /be/api/restaurants/2  \n",
       "status                                    2  \n",
       "total_cost                             30.2  \n",
       "rest        &{Long:27.554384 Lat:53.890244}  \n",
       "dest        &{Long:27.599731 Lat:53.925205}  \n",
       "courier                               <nil>  "
      ]
     },
     "execution_count": 4,
     "metadata": {},
     "output_type": "execute_result"
    }
   ],
   "source": [
    "dataset.head().T"
   ]
  },
  {
   "cell_type": "code",
   "execution_count": 5,
   "metadata": {},
   "outputs": [
    {
     "data": {
      "text/plain": [
       "date           object\n",
       "restaurant     object\n",
       "status        float64\n",
       "total_cost    float64\n",
       "rest           object\n",
       "dest           object\n",
       "courier        object\n",
       "dtype: object"
      ]
     },
     "execution_count": 5,
     "metadata": {},
     "output_type": "execute_result"
    }
   ],
   "source": [
    "dataset.dtypes"
   ]
  },
  {
   "cell_type": "code",
   "execution_count": 6,
   "metadata": {},
   "outputs": [
    {
     "data": {
      "text/html": [
       "<div>\n",
       "<style scoped>\n",
       "    .dataframe tbody tr th:only-of-type {\n",
       "        vertical-align: middle;\n",
       "    }\n",
       "\n",
       "    .dataframe tbody tr th {\n",
       "        vertical-align: top;\n",
       "    }\n",
       "\n",
       "    .dataframe thead th {\n",
       "        text-align: right;\n",
       "    }\n",
       "</style>\n",
       "<table border=\"1\" class=\"dataframe\">\n",
       "  <thead>\n",
       "    <tr style=\"text-align: right;\">\n",
       "      <th></th>\n",
       "      <th>status</th>\n",
       "      <th>total_cost</th>\n",
       "    </tr>\n",
       "  </thead>\n",
       "  <tbody>\n",
       "    <tr>\n",
       "      <th>count</th>\n",
       "      <td>81.000000</td>\n",
       "      <td>170.000000</td>\n",
       "    </tr>\n",
       "    <tr>\n",
       "      <th>mean</th>\n",
       "      <td>2.629630</td>\n",
       "      <td>14.254118</td>\n",
       "    </tr>\n",
       "    <tr>\n",
       "      <th>std</th>\n",
       "      <td>0.914391</td>\n",
       "      <td>15.006993</td>\n",
       "    </tr>\n",
       "    <tr>\n",
       "      <th>min</th>\n",
       "      <td>2.000000</td>\n",
       "      <td>0.000000</td>\n",
       "    </tr>\n",
       "    <tr>\n",
       "      <th>25%</th>\n",
       "      <td>2.000000</td>\n",
       "      <td>0.000000</td>\n",
       "    </tr>\n",
       "    <tr>\n",
       "      <th>50%</th>\n",
       "      <td>2.000000</td>\n",
       "      <td>0.000000</td>\n",
       "    </tr>\n",
       "    <tr>\n",
       "      <th>75%</th>\n",
       "      <td>4.000000</td>\n",
       "      <td>30.200001</td>\n",
       "    </tr>\n",
       "    <tr>\n",
       "      <th>max</th>\n",
       "      <td>4.000000</td>\n",
       "      <td>30.200001</td>\n",
       "    </tr>\n",
       "  </tbody>\n",
       "</table>\n",
       "</div>"
      ],
      "text/plain": [
       "          status  total_cost\n",
       "count  81.000000  170.000000\n",
       "mean    2.629630   14.254118\n",
       "std     0.914391   15.006993\n",
       "min     2.000000    0.000000\n",
       "25%     2.000000    0.000000\n",
       "50%     2.000000    0.000000\n",
       "75%     4.000000   30.200001\n",
       "max     4.000000   30.200001"
      ]
     },
     "execution_count": 6,
     "metadata": {},
     "output_type": "execute_result"
    }
   ],
   "source": [
    "dataset.describe()"
   ]
  },
  {
   "cell_type": "markdown",
   "metadata": {},
   "source": [
    "# Prepare data"
   ]
  },
  {
   "cell_type": "markdown",
   "metadata": {},
   "source": [
    "## List categorical columns"
   ]
  },
  {
   "cell_type": "code",
   "execution_count": 7,
   "metadata": {},
   "outputs": [],
   "source": [
    "categorical_columns = ['restaurant']"
   ]
  },
  {
   "cell_type": "code",
   "execution_count": 8,
   "metadata": {},
   "outputs": [],
   "source": [
    "def split_column(df: pd.DataFrame, name: str):\n",
    "    df[name+'_long'] = df[name].str.extract(\"&{Long:(\\d+\\.\\d+)\", expand=False).astype('float64')\n",
    "    df[name+'_lat'] = df[name].str.extract(\"Lat:(\\d+\\.\\d+)}\", expand=False).astype('float64')\n",
    "    return df.drop([name], axis=1)"
   ]
  },
  {
   "cell_type": "code",
   "execution_count": 9,
   "metadata": {},
   "outputs": [],
   "source": [
    "def replace_coordinates(df: pd.DataFrame):\n",
    "    df = split_column(df, \"rest\")\n",
    "    df = split_column(df, \"dest\")\n",
    "    df = split_column(df, \"courier\")\n",
    "    return df"
   ]
  },
  {
   "cell_type": "code",
   "execution_count": 10,
   "metadata": {},
   "outputs": [],
   "source": [
    "dataset = replace_coordinates(dataset)"
   ]
  },
  {
   "cell_type": "markdown",
   "metadata": {},
   "source": [
    "## Geodata"
   ]
  },
  {
   "cell_type": "code",
   "execution_count": 11,
   "metadata": {},
   "outputs": [],
   "source": [
    "def plot_geodata(dataset: pd.DataFrame): \n",
    "    gdf = geopandas.GeoDataFrame(dataset.copy(), \n",
    "                                 geometry=geopandas.points_from_xy(dataset.rest_long, dataset.rest_lat))\n",
    "    world = geopandas.read_file(geopandas.datasets.get_path('naturalearth_lowres'))\n",
    "    ax = world[world.continent == 'Europe'].plot(color='white', edgecolor='black')\n",
    "\n",
    "    gdf.plot(ax=ax, color='red',  figsize=(256, 256))\n",
    "\n",
    "    plt.show()"
   ]
  },
  {
   "cell_type": "code",
   "execution_count": 12,
   "metadata": {},
   "outputs": [],
   "source": [
    "#plot_geodata(dataset)"
   ]
  },
  {
   "cell_type": "markdown",
   "metadata": {},
   "source": [
    "##  Handle N/A values"
   ]
  },
  {
   "cell_type": "code",
   "execution_count": 13,
   "metadata": {},
   "outputs": [
    {
     "data": {
      "text/plain": [
       "date              0\n",
       "restaurant       89\n",
       "status           89\n",
       "total_cost        0\n",
       "rest_long        89\n",
       "rest_lat         89\n",
       "dest_long        89\n",
       "dest_lat         89\n",
       "courier_long    121\n",
       "courier_lat     121\n",
       "dtype: int64"
      ]
     },
     "execution_count": 13,
     "metadata": {},
     "output_type": "execute_result"
    }
   ],
   "source": [
    "dataset.isna().sum()"
   ]
  },
  {
   "cell_type": "markdown",
   "metadata": {},
   "source": [
    "### Replace other NaN with explicit 'n/a' value"
   ]
  },
  {
   "cell_type": "code",
   "execution_count": 14,
   "metadata": {},
   "outputs": [],
   "source": [
    "def replace_na_value(dataset: pd.DataFrame):\n",
    "    for column in categorical_columns:\n",
    "        if column not in dataset.columns:\n",
    "            continue\n",
    "        \n",
    "        dataset[column] = dataset[column].fillna('n/a')"
   ]
  },
  {
   "cell_type": "code",
   "execution_count": 15,
   "metadata": {},
   "outputs": [],
   "source": [
    "replace_na_value(dataset)"
   ]
  },
  {
   "cell_type": "markdown",
   "metadata": {},
   "source": [
    "## Convert columns types\n",
    "Easier to work with later, handle as generic category"
   ]
  },
  {
   "cell_type": "code",
   "execution_count": 16,
   "metadata": {},
   "outputs": [],
   "source": [
    "def convert_column_type(dataset, column_name, result_type):\n",
    "    dataset[column_name] = dataset[column_name].astype(result_type)"
   ]
  },
  {
   "cell_type": "code",
   "execution_count": 17,
   "metadata": {},
   "outputs": [],
   "source": [
    "convert_column_type(dataset, 'date', 'datetime64')\n",
    "convert_column_type(dataset, 'restaurant', str)\n",
    "convert_column_type(dataset, 'status', str)"
   ]
  },
  {
   "cell_type": "markdown",
   "metadata": {},
   "source": [
    "## State machine - convert events to orders"
   ]
  },
  {
   "cell_type": "code",
   "execution_count": 18,
   "metadata": {},
   "outputs": [],
   "source": [
    "def haversine(lat1, lon1, lat2, lon2, to_radians=True, earth_radius=6371):\n",
    "    \"\"\"\n",
    "    slightly modified version: of http://stackoverflow.com/a/29546836/2901002\n",
    "\n",
    "    Calculate the great circle distance between two points\n",
    "    on the earth (specified in decimal degrees or in radians)\n",
    "\n",
    "    All (lat, lon) coordinates must have numeric dtypes and be of equal length.\n",
    "\n",
    "    \"\"\"\n",
    "    if to_radians:\n",
    "        lat1, lon1, lat2, lon2 = np.radians([lat1, lon1, lat2, lon2])\n",
    "\n",
    "    a = np.sin((lat2-lat1)/2.0)**2 + \\\n",
    "        np.cos(lat1) * np.cos(lat2) * np.sin((lon2-lon1)/2.0)**2\n",
    "\n",
    "    return earth_radius * 2 * np.arcsin(np.sqrt(a)) * 1000"
   ]
  },
  {
   "cell_type": "code",
   "execution_count": 19,
   "metadata": {},
   "outputs": [],
   "source": [
    "data = []\n",
    "\n",
    "start_date = None\n",
    "curr_restaurant = None\n",
    "curr_total_cost = None\n",
    "curr_distance = None\n",
    "\n",
    "rest_lat = None\n",
    "rest_long = None\n",
    "dest_lat = None\n",
    "dest_long = None\n",
    "\n",
    "for index, row in dataset.iterrows():\n",
    "    restaurant = str(row['restaurant'])\n",
    "    if 'n/a' in restaurant:\n",
    "        if curr_restaurant is not None:\n",
    "            distance = haversine(rest_lat, rest_long, dest_lat, dest_long)\n",
    "            total_time_sec = (row['date']-start_date).total_seconds()\n",
    "            data.append([start_date, curr_restaurant, curr_total_cost, distance, total_time_sec])\n",
    "            \n",
    "            curr_restaurant = None\n",
    "    else:\n",
    "        if curr_restaurant is None:\n",
    "            curr_restaurant = restaurant\n",
    "            start_date = row['date']\n",
    "            curr_total_cost = row['total_cost']\n",
    "            \n",
    "            rest_lat = row['rest_lat']\n",
    "            rest_long = row['rest_long']\n",
    "            dest_lat = row['dest_lat']\n",
    "            dest_long = row['dest_long']\n",
    "        \n",
    "\n",
    "df = pd.DataFrame(data, columns=['date', 'restaurant', 'total_cost', 'distance_meters', 'total_time_sec'])"
   ]
  },
  {
   "cell_type": "code",
   "execution_count": 20,
   "metadata": {},
   "outputs": [
    {
     "data": {
      "text/plain": [
       "date               datetime64[ns]\n",
       "restaurant                 object\n",
       "total_cost                float64\n",
       "distance_meters           float64\n",
       "total_time_sec            float64\n",
       "dtype: object"
      ]
     },
     "execution_count": 20,
     "metadata": {},
     "output_type": "execute_result"
    }
   ],
   "source": [
    "df.dtypes"
   ]
  },
  {
   "cell_type": "code",
   "execution_count": 21,
   "metadata": {},
   "outputs": [
    {
     "data": {
      "text/html": [
       "<div>\n",
       "<style scoped>\n",
       "    .dataframe tbody tr th:only-of-type {\n",
       "        vertical-align: middle;\n",
       "    }\n",
       "\n",
       "    .dataframe tbody tr th {\n",
       "        vertical-align: top;\n",
       "    }\n",
       "\n",
       "    .dataframe thead th {\n",
       "        text-align: right;\n",
       "    }\n",
       "</style>\n",
       "<table border=\"1\" class=\"dataframe\">\n",
       "  <thead>\n",
       "    <tr style=\"text-align: right;\">\n",
       "      <th></th>\n",
       "      <th>0</th>\n",
       "      <th>1</th>\n",
       "      <th>2</th>\n",
       "      <th>3</th>\n",
       "      <th>4</th>\n",
       "    </tr>\n",
       "  </thead>\n",
       "  <tbody>\n",
       "    <tr>\n",
       "      <th>date</th>\n",
       "      <td>2020-11-21 13:00:31</td>\n",
       "      <td>2020-11-21 16:53:31</td>\n",
       "      <td>2020-11-21 19:53:31</td>\n",
       "      <td>2020-11-21 22:53:31</td>\n",
       "      <td>2020-11-22 16:53:31</td>\n",
       "    </tr>\n",
       "    <tr>\n",
       "      <th>restaurant</th>\n",
       "      <td>/be/api/restaurants/2</td>\n",
       "      <td>/be/api/restaurants/2</td>\n",
       "      <td>/be/api/restaurants/2</td>\n",
       "      <td>/be/api/restaurants/2</td>\n",
       "      <td>/be/api/restaurants/2</td>\n",
       "    </tr>\n",
       "    <tr>\n",
       "      <th>total_cost</th>\n",
       "      <td>30.2</td>\n",
       "      <td>28.2</td>\n",
       "      <td>27.2</td>\n",
       "      <td>27.2</td>\n",
       "      <td>22.2</td>\n",
       "    </tr>\n",
       "    <tr>\n",
       "      <th>distance_meters</th>\n",
       "      <td>4892.42</td>\n",
       "      <td>4892.42</td>\n",
       "      <td>4892.42</td>\n",
       "      <td>4892.42</td>\n",
       "      <td>4892.42</td>\n",
       "    </tr>\n",
       "    <tr>\n",
       "      <th>total_time_sec</th>\n",
       "      <td>6811</td>\n",
       "      <td>4047</td>\n",
       "      <td>4047</td>\n",
       "      <td>3927</td>\n",
       "      <td>3447</td>\n",
       "    </tr>\n",
       "  </tbody>\n",
       "</table>\n",
       "</div>"
      ],
      "text/plain": [
       "                                     0                      1  \\\n",
       "date               2020-11-21 13:00:31    2020-11-21 16:53:31   \n",
       "restaurant       /be/api/restaurants/2  /be/api/restaurants/2   \n",
       "total_cost                        30.2                   28.2   \n",
       "distance_meters                4892.42                4892.42   \n",
       "total_time_sec                    6811                   4047   \n",
       "\n",
       "                                     2                      3  \\\n",
       "date               2020-11-21 19:53:31    2020-11-21 22:53:31   \n",
       "restaurant       /be/api/restaurants/2  /be/api/restaurants/2   \n",
       "total_cost                        27.2                   27.2   \n",
       "distance_meters                4892.42                4892.42   \n",
       "total_time_sec                    4047                   3927   \n",
       "\n",
       "                                     4  \n",
       "date               2020-11-22 16:53:31  \n",
       "restaurant       /be/api/restaurants/2  \n",
       "total_cost                        22.2  \n",
       "distance_meters                4892.42  \n",
       "total_time_sec                    3447  "
      ]
     },
     "execution_count": 21,
     "metadata": {},
     "output_type": "execute_result"
    }
   ],
   "source": [
    "df.head().T"
   ]
  },
  {
   "cell_type": "markdown",
   "metadata": {},
   "source": [
    "# TODO: extract month, day, weekday, day time; probably better then pure date"
   ]
  },
  {
   "cell_type": "markdown",
   "metadata": {},
   "source": [
    "# ===========\n",
    "# Work with processed data"
   ]
  },
  {
   "cell_type": "markdown",
   "metadata": {},
   "source": [
    "## Encode categorical columns"
   ]
  },
  {
   "cell_type": "code",
   "execution_count": 22,
   "metadata": {},
   "outputs": [],
   "source": [
    "def encode_categorical_columns(dataset: pd.DataFrame) -> Dict[str, LabelEncoder]:\n",
    "    encoders = {} \n",
    "    for column in categorical_columns:\n",
    "        if column not in dataset.columns:\n",
    "            continue\n",
    "            \n",
    "        le = LabelEncoder()\n",
    "        le.fit(dataset[column])\n",
    "\n",
    "        dataset[column] = le.transform(dataset[column])\n",
    "        encoders[column]= le\n",
    "        \n",
    "    return encoders"
   ]
  },
  {
   "cell_type": "code",
   "execution_count": 23,
   "metadata": {},
   "outputs": [],
   "source": [
    "encoders = encode_categorical_columns(df)"
   ]
  },
  {
   "cell_type": "markdown",
   "metadata": {},
   "source": [
    "## Handle date columns\n",
    "Convert to epoch time"
   ]
  },
  {
   "cell_type": "code",
   "execution_count": 24,
   "metadata": {},
   "outputs": [],
   "source": [
    "date_columns = ['date']"
   ]
  },
  {
   "cell_type": "code",
   "execution_count": 25,
   "metadata": {},
   "outputs": [],
   "source": [
    "def convert_date_columns_to_epoch(dataset: pd.DataFrame, timestamp_format=\"%Y-%m-%d %H:%M:%S\"):\n",
    "    for column in date_columns:\n",
    "        dataset[column] = (dataset[column] - pd.Timestamp(\"1970-01-01\")) // pd.Timedelta('1s')"
   ]
  },
  {
   "cell_type": "code",
   "execution_count": 26,
   "metadata": {},
   "outputs": [],
   "source": [
    "convert_date_columns_to_epoch(df)"
   ]
  },
  {
   "cell_type": "markdown",
   "metadata": {},
   "source": [
    "## Scale/normalize all columns"
   ]
  },
  {
   "cell_type": "code",
   "execution_count": 27,
   "metadata": {},
   "outputs": [],
   "source": [
    "def scale_columns(dataset: pd.DataFrame):\n",
    "    scaler = StandardScaler()\n",
    "    dataset = scaler.fit_transform(dataset)\n",
    "    #dataset[values.columns] = scaler.fit_transform(dataset[dataset.columns])"
   ]
  },
  {
   "cell_type": "code",
   "execution_count": 28,
   "metadata": {},
   "outputs": [],
   "source": [
    "scale_columns(df)"
   ]
  },
  {
   "cell_type": "code",
   "execution_count": 29,
   "metadata": {},
   "outputs": [
    {
     "data": {
      "text/html": [
       "<div>\n",
       "<style scoped>\n",
       "    .dataframe tbody tr th:only-of-type {\n",
       "        vertical-align: middle;\n",
       "    }\n",
       "\n",
       "    .dataframe tbody tr th {\n",
       "        vertical-align: top;\n",
       "    }\n",
       "\n",
       "    .dataframe thead th {\n",
       "        text-align: right;\n",
       "    }\n",
       "</style>\n",
       "<table border=\"1\" class=\"dataframe\">\n",
       "  <thead>\n",
       "    <tr style=\"text-align: right;\">\n",
       "      <th></th>\n",
       "      <th>0</th>\n",
       "      <th>1</th>\n",
       "      <th>2</th>\n",
       "      <th>3</th>\n",
       "      <th>4</th>\n",
       "    </tr>\n",
       "  </thead>\n",
       "  <tbody>\n",
       "    <tr>\n",
       "      <th>date</th>\n",
       "      <td>1.605964e+09</td>\n",
       "      <td>1.605978e+09</td>\n",
       "      <td>1.605988e+09</td>\n",
       "      <td>1.605999e+09</td>\n",
       "      <td>1.606064e+09</td>\n",
       "    </tr>\n",
       "    <tr>\n",
       "      <th>restaurant</th>\n",
       "      <td>0.000000e+00</td>\n",
       "      <td>0.000000e+00</td>\n",
       "      <td>0.000000e+00</td>\n",
       "      <td>0.000000e+00</td>\n",
       "      <td>0.000000e+00</td>\n",
       "    </tr>\n",
       "    <tr>\n",
       "      <th>total_cost</th>\n",
       "      <td>3.020000e+01</td>\n",
       "      <td>2.820000e+01</td>\n",
       "      <td>2.720000e+01</td>\n",
       "      <td>2.720000e+01</td>\n",
       "      <td>2.220000e+01</td>\n",
       "    </tr>\n",
       "    <tr>\n",
       "      <th>distance_meters</th>\n",
       "      <td>4.892418e+03</td>\n",
       "      <td>4.892418e+03</td>\n",
       "      <td>4.892418e+03</td>\n",
       "      <td>4.892418e+03</td>\n",
       "      <td>4.892418e+03</td>\n",
       "    </tr>\n",
       "    <tr>\n",
       "      <th>total_time_sec</th>\n",
       "      <td>6.811000e+03</td>\n",
       "      <td>4.047000e+03</td>\n",
       "      <td>4.047000e+03</td>\n",
       "      <td>3.927000e+03</td>\n",
       "      <td>3.447000e+03</td>\n",
       "    </tr>\n",
       "  </tbody>\n",
       "</table>\n",
       "</div>"
      ],
      "text/plain": [
       "                            0             1             2             3  \\\n",
       "date             1.605964e+09  1.605978e+09  1.605988e+09  1.605999e+09   \n",
       "restaurant       0.000000e+00  0.000000e+00  0.000000e+00  0.000000e+00   \n",
       "total_cost       3.020000e+01  2.820000e+01  2.720000e+01  2.720000e+01   \n",
       "distance_meters  4.892418e+03  4.892418e+03  4.892418e+03  4.892418e+03   \n",
       "total_time_sec   6.811000e+03  4.047000e+03  4.047000e+03  3.927000e+03   \n",
       "\n",
       "                            4  \n",
       "date             1.606064e+09  \n",
       "restaurant       0.000000e+00  \n",
       "total_cost       2.220000e+01  \n",
       "distance_meters  4.892418e+03  \n",
       "total_time_sec   3.447000e+03  "
      ]
     },
     "execution_count": 29,
     "metadata": {},
     "output_type": "execute_result"
    }
   ],
   "source": [
    "df.head().T"
   ]
  },
  {
   "cell_type": "code",
   "execution_count": 30,
   "metadata": {},
   "outputs": [
    {
     "data": {
      "text/plain": [
       "date                 int64\n",
       "restaurant           int64\n",
       "total_cost         float64\n",
       "distance_meters    float64\n",
       "total_time_sec     float64\n",
       "dtype: object"
      ]
     },
     "execution_count": 30,
     "metadata": {},
     "output_type": "execute_result"
    }
   ],
   "source": [
    "df.dtypes"
   ]
  },
  {
   "cell_type": "code",
   "execution_count": 31,
   "metadata": {},
   "outputs": [],
   "source": [
    "def prepare_dataset(dataset: pd.DataFrame) -> pd.DataFrame:\n",
    "    encode_categorical_columns(dataset)\n",
    "    convert_date_columns_to_epoch(dataset)\n",
    "\n",
    "    scale_columns(dataset)\n",
    "    \n",
    "    return dataset"
   ]
  },
  {
   "cell_type": "markdown",
   "metadata": {},
   "source": [
    "# ======="
   ]
  },
  {
   "cell_type": "markdown",
   "metadata": {},
   "source": [
    "# Split dataset"
   ]
  },
  {
   "cell_type": "code",
   "execution_count": 32,
   "metadata": {},
   "outputs": [],
   "source": [
    "def split_dataset(dataset: pd.DataFrame): \n",
    "    X = dataset.iloc[:, :-1]\n",
    "    y = dataset.iloc[:, -1]\n",
    "\n",
    "    return train_test_split(X, y, test_size=0.2, random_state = 0)"
   ]
  },
  {
   "cell_type": "code",
   "execution_count": 33,
   "metadata": {},
   "outputs": [],
   "source": [
    "X_train, X_test, y_train, y_test = split_dataset(df)"
   ]
  },
  {
   "cell_type": "markdown",
   "metadata": {},
   "source": [
    "# Train models"
   ]
  },
  {
   "cell_type": "code",
   "execution_count": 34,
   "metadata": {},
   "outputs": [],
   "source": [
    "models_result = {}"
   ]
  },
  {
   "cell_type": "code",
   "execution_count": 35,
   "metadata": {},
   "outputs": [],
   "source": [
    "def update_result_print(models_result, model_name, regr, X_test, y_test):\n",
    "    from sklearn.metrics import r2_score\n",
    "    \n",
    "    y_pred = regr.predict(X_test)\n",
    "    y_test = y_test.values.tolist()\n",
    "    \n",
    "    print(\"y_pred:\")\n",
    "    print(y_pred)\n",
    "    print(\"y_test:\")\n",
    "    print(y_test)\n",
    "\n",
    "    accuracy = r2_score(y_test, y_pred)\n",
    "\n",
    "    models_result[model_name] = accuracy\n",
    "    print(f'\"{model_name}\" has r2_score: {accuracy}') "
   ]
  },
  {
   "cell_type": "code",
   "execution_count": 36,
   "metadata": {},
   "outputs": [],
   "source": [
    "def plot_features_importances(regressor, X_train):\n",
    "    series = pd.Series(regressor.feature_importances_, index=X_train.columns).sort_values(ascending=True)\n",
    "    series = series.plot(kind='barh', figsize=(10,10))\n",
    "    plt.xlabel('Feature importance')\n",
    "    plt.ylabel('Features')\n",
    "    plt.show()"
   ]
  },
  {
   "cell_type": "markdown",
   "metadata": {},
   "source": [
    "## Random forest"
   ]
  },
  {
   "cell_type": "code",
   "execution_count": 37,
   "metadata": {},
   "outputs": [],
   "source": [
    "def random_forest(X_train, y_train):\n",
    "    from sklearn.ensemble import RandomForestRegressor\n",
    "    regr = RandomForestRegressor(max_depth=25, n_estimators = 42*5, random_state = 0)\n",
    "\n",
    "    regr.fit(X_train, y_train)\n",
    "    \n",
    "    return regr"
   ]
  },
  {
   "cell_type": "code",
   "execution_count": 38,
   "metadata": {},
   "outputs": [
    {
     "name": "stdout",
     "output_type": "stream",
     "text": [
      "y_pred:\n",
      "[4387.74285714 4090.56190476]\n",
      "y_test:\n",
      "[3987.0, 4047.0]\n",
      "\"Random forest\" has r2_score: -89.2735983875032\n"
     ]
    },
    {
     "data": {
      "image/png": "[encoded data removed]",
      "text/plain": [
       "<Figure size 720x720 with 1 Axes>"
      ]
     },
     "metadata": {
      "needs_background": "light"
     },
     "output_type": "display_data"
    }
   ],
   "source": [
    "rf_rgr = random_forest(X_train, y_train)\n",
    "update_result_print(models_result, 'Random forest', rf_rgr, X_test, y_test)\n",
    "plot_features_importances(rf_rgr, X_train)"
   ]
  },
  {
   "cell_type": "markdown",
   "metadata": {},
   "source": [
    "## K-Nearest Neighbors"
   ]
  },
  {
   "cell_type": "code",
   "execution_count": 39,
   "metadata": {},
   "outputs": [],
   "source": [
    "def k_nearest(X_train, y_train):\n",
    "    from sklearn.neighbors import KNeighborsRegressor\n",
    "    regr = KNeighborsRegressor(n_neighbors=3)\n",
    "    \n",
    "    regr.fit(X_train, y_train)\n",
    "    \n",
    "    return regr"
   ]
  },
  {
   "cell_type": "code",
   "execution_count": 40,
   "metadata": {},
   "outputs": [
    {
     "name": "stdout",
     "output_type": "stream",
     "text": [
      "y_pred:\n",
      "[4007.         4928.33333333]\n",
      "y_test:\n",
      "[3987.0, 4047.0]\n",
      "\"K-Nearest Neighbors\" has r2_score: -430.74913580246886\n"
     ]
    }
   ],
   "source": [
    "k_nearest_regr = k_nearest(X_train, y_train)\n",
    "update_result_print(models_result, 'K-Nearest Neighbors', k_nearest_regr, X_test, y_test)\n",
    "#plot_features_importances(k_nearest_regr, X_train)"
   ]
  },
  {
   "cell_type": "markdown",
   "metadata": {},
   "source": [
    "## Linear regression"
   ]
  },
  {
   "cell_type": "code",
   "execution_count": 41,
   "metadata": {},
   "outputs": [],
   "source": [
    "def linear(X_train, y_train):\n",
    "    from sklearn.linear_model import LinearRegression\n",
    "    regr = LinearRegression()\n",
    "    \n",
    "    regr.fit(X_train, y_train)\n",
    "    \n",
    "    return regr"
   ]
  },
  {
   "cell_type": "code",
   "execution_count": 42,
   "metadata": {
    "scrolled": true
   },
   "outputs": [
    {
     "name": "stdout",
     "output_type": "stream",
     "text": [
      "y_pred:\n",
      "[6832.27799741 4417.0480044 ]\n",
      "y_test:\n",
      "[3987.0, 4047.0]\n",
      "\"Linear\" has r2_score: -4572.63467117558\n"
     ]
    }
   ],
   "source": [
    "linear_regr = linear(X_train, y_train)\n",
    "update_result_print(models_result, 'Linear', linear_regr, X_test, y_test)\n",
    "#plot_features_importances(linear_regr, X_train)"
   ]
  },
  {
   "cell_type": "markdown",
   "metadata": {},
   "source": [
    "## Ridge regression"
   ]
  },
  {
   "cell_type": "code",
   "execution_count": 43,
   "metadata": {},
   "outputs": [],
   "source": [
    "def ridge(X_train, y_train):\n",
    "    from sklearn.linear_model import Ridge\n",
    "    regr = Ridge(alpha=.5)\n",
    "    \n",
    "    regr.fit(X_train, y_train)\n",
    "    \n",
    "    return regr"
   ]
  },
  {
   "cell_type": "code",
   "execution_count": 44,
   "metadata": {},
   "outputs": [
    {
     "name": "stdout",
     "output_type": "stream",
     "text": [
      "y_pred:\n",
      "[6629.30322551 4450.3734474 ]\n",
      "y_test:\n",
      "[3987.0, 4047.0]\n",
      "\"Ridge\" has r2_score: -3968.1535964481322\n"
     ]
    }
   ],
   "source": [
    "ridge_regr = ridge(X_train, y_train)\n",
    "update_result_print(models_result, 'Ridge', ridge_regr, X_test, y_test)\n",
    "#plot_features_importances(ridge_regr, X_train)"
   ]
  },
  {
   "cell_type": "markdown",
   "metadata": {},
   "source": [
    "## Multi-layer perceptron\n",
    "TODO requires OneHotEncoder"
   ]
  },
  {
   "cell_type": "code",
   "execution_count": 45,
   "metadata": {},
   "outputs": [],
   "source": [
    "def mlp(X_train, y_train):\n",
    "    from sklearn.neural_network import MLPRegressor\n",
    "    regr = MLPRegressor(solver='adam', alpha=1e-5,\n",
    "                        hidden_layer_sizes=(X_train.columns.size, X_train.columns.size), \n",
    "                        max_iter=10, activation='relu',\n",
    "                        learning_rate_init=.1,\n",
    "                        random_state=0)\n",
    "    \n",
    "    regr.fit(X_train, y_train)\n",
    "    \n",
    "    return regr"
   ]
  },
  {
   "cell_type": "code",
   "execution_count": 46,
   "metadata": {},
   "outputs": [
    {
     "name": "stdout",
     "output_type": "stream",
     "text": [
      "y_pred:\n",
      "[1.67271203 1.67271203]\n",
      "y_test:\n",
      "[3987.0, 4047.0]\n",
      "\"Multi-layer perceptron\" has r2_score: -17914.28136615164\n"
     ]
    },
    {
     "name": "stderr",
     "output_type": "stream",
     "text": [
      "/usr/local/Caskroom/miniconda/base/lib/python3.7/site-packages/sklearn/neural_network/_multilayer_perceptron.py:585: ConvergenceWarning: Stochastic Optimizer: Maximum iterations (10) reached and the optimization hasn't converged yet.\n",
      "  % self.max_iter, ConvergenceWarning)\n"
     ]
    }
   ],
   "source": [
    "mlp_regr = mlp(X_train, y_train)\n",
    "update_result_print(models_result, 'Multi-layer perceptron', mlp_regr, X_test, y_test)\n",
    "#plot_features_importances(mlp_regr, X_train)"
   ]
  },
  {
   "cell_type": "markdown",
   "metadata": {},
   "source": [
    "## Support Vector Machine"
   ]
  },
  {
   "cell_type": "code",
   "execution_count": 47,
   "metadata": {},
   "outputs": [],
   "source": [
    "def svm(X_train, y_train):\n",
    "    from sklearn.svm import LinearSVR \n",
    "    regr = LinearSVR()\n",
    "    \n",
    "    regr.fit(X_train, y_train)\n",
    "    \n",
    "    return regr"
   ]
  },
  {
   "cell_type": "code",
   "execution_count": 48,
   "metadata": {},
   "outputs": [
    {
     "name": "stdout",
     "output_type": "stream",
     "text": [
      "y_pred:\n",
      "[0. 0.]\n",
      "y_test:\n",
      "[3987.0, 4047.0]\n",
      "\"Support Vector Machine\" has r2_score: -17929.21\n"
     ]
    },
    {
     "name": "stderr",
     "output_type": "stream",
     "text": [
      "/usr/local/Caskroom/miniconda/base/lib/python3.7/site-packages/sklearn/svm/_base.py:977: ConvergenceWarning: Liblinear failed to converge, increase the number of iterations.\n",
      "  \"the number of iterations.\", ConvergenceWarning)\n"
     ]
    }
   ],
   "source": [
    "svm_regr = svm(X_train, y_train)\n",
    "update_result_print(models_result, 'Support Vector Machine', svm_regr, X_test, y_test)\n",
    "#plot_features_importances(svm_regr, X_train)"
   ]
  },
  {
   "cell_type": "markdown",
   "metadata": {},
   "source": [
    "# Results"
   ]
  },
  {
   "cell_type": "code",
   "execution_count": 49,
   "metadata": {},
   "outputs": [
    {
     "name": "stdout",
     "output_type": "stream",
     "text": [
      "Random forest             -89.2735983875032\n",
      "K-Nearest Neighbors       -430.74913580246886\n",
      "Ridge                     -3968.1535964481322\n",
      "Linear                    -4572.63467117558\n",
      "Multi-layer perceptron    -17914.28136615164\n",
      "Support Vector Machine    -17929.21\n"
     ]
    }
   ],
   "source": [
    "for k,v in sorted(models_result.items(), key=lambda entry:entry[1], reverse=True):\n",
    "    print(f'{k:25s} {v}')"
   ]
  }
 ],
 "metadata": {
  "kernelspec": {
   "display_name": "Python 3",
   "language": "python",
   "name": "python3"
  },
  "language_info": {
   "codemirror_mode": {
    "name": "ipython",
    "version": 3
   },
   "file_extension": ".py",
   "mimetype": "text/x-python",
   "name": "python",
   "nbconvert_exporter": "python",
   "pygments_lexer": "ipython3",
   "version": "3.7.7"
  }
 },
 "nbformat": 4,
 "nbformat_minor": 2
}
