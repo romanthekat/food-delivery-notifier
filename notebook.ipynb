{
 "cells": [
  {
   "cell_type": "raw",
   "metadata": {},
   "source": [
    "%config IPCompleter.greedy=True"
   ]
  },
  {
   "cell_type": "code",
   "execution_count": 1,
   "metadata": {},
   "outputs": [],
   "source": [
    "import pandas as pd\n",
    "import numpy as np\n",
    "import matplotlib.pyplot as plt\n",
    "import geopandas\n",
    "\n",
    "from sklearn.preprocessing import LabelEncoder, StandardScaler\n",
    "from sklearn.model_selection import train_test_split\n",
    "\n",
    "import time\n",
    "import datetime\n",
    "from typing import Dict, Tuple"
   ]
  },
  {
   "cell_type": "markdown",
   "metadata": {},
   "source": [
    "# Load raw data"
   ]
  },
  {
   "cell_type": "code",
   "execution_count": 2,
   "metadata": {},
   "outputs": [],
   "source": [
    "data_raw_filename = \"data_raw_fake.csv\""
   ]
  },
  {
   "cell_type": "code",
   "execution_count": 3,
   "metadata": {},
   "outputs": [],
   "source": [
    "dataset = pd.read_csv(data_raw_filename)"
   ]
  },
  {
   "cell_type": "code",
   "execution_count": 4,
   "metadata": {},
   "outputs": [
    {
     "data": {
      "text/html": [
       "<div>\n",
       "<style scoped>\n",
       "    .dataframe tbody tr th:only-of-type {\n",
       "        vertical-align: middle;\n",
       "    }\n",
       "\n",
       "    .dataframe tbody tr th {\n",
       "        vertical-align: top;\n",
       "    }\n",
       "\n",
       "    .dataframe thead th {\n",
       "        text-align: right;\n",
       "    }\n",
       "</style>\n",
       "<table border=\"1\" class=\"dataframe\">\n",
       "  <thead>\n",
       "    <tr style=\"text-align: right;\">\n",
       "      <th></th>\n",
       "      <th>0</th>\n",
       "      <th>1</th>\n",
       "      <th>2</th>\n",
       "      <th>3</th>\n",
       "      <th>4</th>\n",
       "    </tr>\n",
       "  </thead>\n",
       "  <tbody>\n",
       "    <tr>\n",
       "      <th>date</th>\n",
       "      <td>2020-03-27 12:52:08</td>\n",
       "      <td>2020-03-27 14:36:29</td>\n",
       "      <td>2020-03-28 08:47:35</td>\n",
       "      <td>2020-03-28 09:38:40</td>\n",
       "      <td>2020-03-30 17:58:36</td>\n",
       "    </tr>\n",
       "    <tr>\n",
       "      <th>restaurant</th>\n",
       "      <td>/be/api/restaurants/181</td>\n",
       "      <td>NaN</td>\n",
       "      <td>/be/api/restaurants/181</td>\n",
       "      <td>NaN</td>\n",
       "      <td>/be/api/restaurants/244</td>\n",
       "    </tr>\n",
       "    <tr>\n",
       "      <th>status</th>\n",
       "      <td>-1</td>\n",
       "      <td>-1</td>\n",
       "      <td>-1</td>\n",
       "      <td>-1</td>\n",
       "      <td>-1</td>\n",
       "    </tr>\n",
       "    <tr>\n",
       "      <th>total_cost</th>\n",
       "      <td>21.5</td>\n",
       "      <td>0</td>\n",
       "      <td>20.5</td>\n",
       "      <td>0</td>\n",
       "      <td>25.1</td>\n",
       "    </tr>\n",
       "    <tr>\n",
       "      <th>rest</th>\n",
       "      <td>&amp;{Long:27.577507 Lat:53.930103}</td>\n",
       "      <td>NaN</td>\n",
       "      <td>&amp;{Long:27.577507 Lat:53.930103}</td>\n",
       "      <td>NaN</td>\n",
       "      <td>&amp;{Long:27.652157 Lat:53.933624}</td>\n",
       "    </tr>\n",
       "    <tr>\n",
       "      <th>dest</th>\n",
       "      <td>&amp;{Long:27.599731 Lat:53.925205}</td>\n",
       "      <td>NaN</td>\n",
       "      <td>&amp;{Long:27.599731 Lat:53.925205}</td>\n",
       "      <td>NaN</td>\n",
       "      <td>&amp;{Long:27.599731 Lat:53.925205}</td>\n",
       "    </tr>\n",
       "    <tr>\n",
       "      <th>courier</th>\n",
       "      <td>NaN</td>\n",
       "      <td>NaN</td>\n",
       "      <td>NaN</td>\n",
       "      <td>NaN</td>\n",
       "      <td>NaN</td>\n",
       "    </tr>\n",
       "  </tbody>\n",
       "</table>\n",
       "</div>"
      ],
      "text/plain": [
       "                                          0                    1  \\\n",
       "date                    2020-03-27 12:52:08  2020-03-27 14:36:29   \n",
       "restaurant          /be/api/restaurants/181                  NaN   \n",
       "status                                   -1                   -1   \n",
       "total_cost                             21.5                    0   \n",
       "rest        &{Long:27.577507 Lat:53.930103}                  NaN   \n",
       "dest        &{Long:27.599731 Lat:53.925205}                  NaN   \n",
       "courier                                 NaN                  NaN   \n",
       "\n",
       "                                          2                    3  \\\n",
       "date                    2020-03-28 08:47:35  2020-03-28 09:38:40   \n",
       "restaurant          /be/api/restaurants/181                  NaN   \n",
       "status                                   -1                   -1   \n",
       "total_cost                             20.5                    0   \n",
       "rest        &{Long:27.577507 Lat:53.930103}                  NaN   \n",
       "dest        &{Long:27.599731 Lat:53.925205}                  NaN   \n",
       "courier                                 NaN                  NaN   \n",
       "\n",
       "                                          4  \n",
       "date                    2020-03-30 17:58:36  \n",
       "restaurant          /be/api/restaurants/244  \n",
       "status                                   -1  \n",
       "total_cost                             25.1  \n",
       "rest        &{Long:27.652157 Lat:53.933624}  \n",
       "dest        &{Long:27.599731 Lat:53.925205}  \n",
       "courier                                 NaN  "
      ]
     },
     "execution_count": 4,
     "metadata": {},
     "output_type": "execute_result"
    }
   ],
   "source": [
    "dataset.head().T"
   ]
  },
  {
   "cell_type": "code",
   "execution_count": 5,
   "metadata": {},
   "outputs": [
    {
     "data": {
      "text/plain": [
       "date           object\n",
       "restaurant     object\n",
       "status          int64\n",
       "total_cost    float64\n",
       "rest           object\n",
       "dest           object\n",
       "courier       float64\n",
       "dtype: object"
      ]
     },
     "execution_count": 5,
     "metadata": {},
     "output_type": "execute_result"
    }
   ],
   "source": [
    "dataset.dtypes"
   ]
  },
  {
   "cell_type": "code",
   "execution_count": 6,
   "metadata": {},
   "outputs": [
    {
     "data": {
      "text/html": [
       "<div>\n",
       "<style scoped>\n",
       "    .dataframe tbody tr th:only-of-type {\n",
       "        vertical-align: middle;\n",
       "    }\n",
       "\n",
       "    .dataframe tbody tr th {\n",
       "        vertical-align: top;\n",
       "    }\n",
       "\n",
       "    .dataframe thead th {\n",
       "        text-align: right;\n",
       "    }\n",
       "</style>\n",
       "<table border=\"1\" class=\"dataframe\">\n",
       "  <thead>\n",
       "    <tr style=\"text-align: right;\">\n",
       "      <th></th>\n",
       "      <th>status</th>\n",
       "      <th>total_cost</th>\n",
       "      <th>courier</th>\n",
       "    </tr>\n",
       "  </thead>\n",
       "  <tbody>\n",
       "    <tr>\n",
       "      <th>count</th>\n",
       "      <td>502.0</td>\n",
       "      <td>502.000000</td>\n",
       "      <td>0.0</td>\n",
       "    </tr>\n",
       "    <tr>\n",
       "      <th>mean</th>\n",
       "      <td>-1.0</td>\n",
       "      <td>13.680558</td>\n",
       "      <td>NaN</td>\n",
       "    </tr>\n",
       "    <tr>\n",
       "      <th>std</th>\n",
       "      <td>0.0</td>\n",
       "      <td>14.573024</td>\n",
       "      <td>NaN</td>\n",
       "    </tr>\n",
       "    <tr>\n",
       "      <th>min</th>\n",
       "      <td>-1.0</td>\n",
       "      <td>0.000000</td>\n",
       "      <td>NaN</td>\n",
       "    </tr>\n",
       "    <tr>\n",
       "      <th>25%</th>\n",
       "      <td>-1.0</td>\n",
       "      <td>0.000000</td>\n",
       "      <td>NaN</td>\n",
       "    </tr>\n",
       "    <tr>\n",
       "      <th>50%</th>\n",
       "      <td>-1.0</td>\n",
       "      <td>9.000000</td>\n",
       "      <td>NaN</td>\n",
       "    </tr>\n",
       "    <tr>\n",
       "      <th>75%</th>\n",
       "      <td>-1.0</td>\n",
       "      <td>25.975000</td>\n",
       "      <td>NaN</td>\n",
       "    </tr>\n",
       "    <tr>\n",
       "      <th>max</th>\n",
       "      <td>-1.0</td>\n",
       "      <td>67.400002</td>\n",
       "      <td>NaN</td>\n",
       "    </tr>\n",
       "  </tbody>\n",
       "</table>\n",
       "</div>"
      ],
      "text/plain": [
       "       status  total_cost  courier\n",
       "count   502.0  502.000000      0.0\n",
       "mean     -1.0   13.680558      NaN\n",
       "std       0.0   14.573024      NaN\n",
       "min      -1.0    0.000000      NaN\n",
       "25%      -1.0    0.000000      NaN\n",
       "50%      -1.0    9.000000      NaN\n",
       "75%      -1.0   25.975000      NaN\n",
       "max      -1.0   67.400002      NaN"
      ]
     },
     "execution_count": 6,
     "metadata": {},
     "output_type": "execute_result"
    }
   ],
   "source": [
    "dataset.describe()"
   ]
  },
  {
   "cell_type": "markdown",
   "metadata": {},
   "source": [
    "# Prepare data"
   ]
  },
  {
   "cell_type": "markdown",
   "metadata": {},
   "source": [
    "## List categorical columns"
   ]
  },
  {
   "cell_type": "code",
   "execution_count": 7,
   "metadata": {},
   "outputs": [],
   "source": [
    "categorical_columns = ['restaurant']"
   ]
  },
  {
   "cell_type": "code",
   "execution_count": 8,
   "metadata": {},
   "outputs": [],
   "source": [
    "def split_column(df: pd.DataFrame, name: str):\n",
    "    df[name+'_long'] = df[name].str.extract(\"&{Long:(\\d+\\.\\d+)\", expand=False).astype('float64')\n",
    "    df[name+'_lat'] = df[name].str.extract(\"Lat:(\\d+\\.\\d+)}\", expand=False).astype('float64')\n",
    "    return df.drop([name], axis=1)"
   ]
  },
  {
   "cell_type": "code",
   "execution_count": 9,
   "metadata": {},
   "outputs": [],
   "source": [
    "def replace_coordinates(df: pd.DataFrame):\n",
    "    df = split_column(df, \"rest\")\n",
    "    df = split_column(df, \"dest\")\n",
    "    #df = split_column(df, \"courier\")\n",
    "    return df"
   ]
  },
  {
   "cell_type": "code",
   "execution_count": 10,
   "metadata": {},
   "outputs": [],
   "source": [
    "dataset = replace_coordinates(dataset)"
   ]
  },
  {
   "cell_type": "markdown",
   "metadata": {},
   "source": [
    "## Geodata"
   ]
  },
  {
   "cell_type": "code",
   "execution_count": 11,
   "metadata": {},
   "outputs": [],
   "source": [
    "def plot_geodata(dataset: pd.DataFrame): \n",
    "    gdf = geopandas.GeoDataFrame(dataset.copy(), \n",
    "                                 geometry=geopandas.points_from_xy(dataset.rest_long, dataset.rest_lat))\n",
    "    world = geopandas.read_file(geopandas.datasets.get_path('naturalearth_lowres'))\n",
    "    ax = world[world.continent == 'Europe'].plot(color='white', edgecolor='black')\n",
    "\n",
    "    gdf.plot(ax=ax, color='red',  figsize=(256, 256))\n",
    "\n",
    "    plt.show()"
   ]
  },
  {
   "cell_type": "code",
   "execution_count": 12,
   "metadata": {},
   "outputs": [],
   "source": [
    "#plot_geodata(dataset)"
   ]
  },
  {
   "cell_type": "markdown",
   "metadata": {},
   "source": [
    "##  Handle N/A values"
   ]
  },
  {
   "cell_type": "code",
   "execution_count": 13,
   "metadata": {},
   "outputs": [
    {
     "data": {
      "text/plain": [
       "date            0\n",
       "restaurant    251\n",
       "status          0\n",
       "total_cost      0\n",
       "courier       502\n",
       "rest_long     251\n",
       "rest_lat      251\n",
       "dest_long     251\n",
       "dest_lat      251\n",
       "dtype: int64"
      ]
     },
     "execution_count": 13,
     "metadata": {},
     "output_type": "execute_result"
    }
   ],
   "source": [
    "dataset.isna().sum()"
   ]
  },
  {
   "cell_type": "markdown",
   "metadata": {},
   "source": [
    "### Replace other NaN with explicit 'n/a' value"
   ]
  },
  {
   "cell_type": "code",
   "execution_count": 14,
   "metadata": {},
   "outputs": [],
   "source": [
    "def replace_na_value(dataset: pd.DataFrame):\n",
    "    for column in categorical_columns:\n",
    "        if column not in dataset.columns:\n",
    "            continue\n",
    "        \n",
    "        dataset[column] = dataset[column].fillna('n/a')"
   ]
  },
  {
   "cell_type": "code",
   "execution_count": 15,
   "metadata": {},
   "outputs": [],
   "source": [
    "replace_na_value(dataset)"
   ]
  },
  {
   "cell_type": "markdown",
   "metadata": {},
   "source": [
    "## Convert columns types\n",
    "Easier to work with later, handle as generic category"
   ]
  },
  {
   "cell_type": "code",
   "execution_count": 16,
   "metadata": {},
   "outputs": [],
   "source": [
    "def convert_column_type(dataset, column_name, result_type):\n",
    "    dataset[column_name] = dataset[column_name].astype(result_type)"
   ]
  },
  {
   "cell_type": "code",
   "execution_count": 17,
   "metadata": {},
   "outputs": [],
   "source": [
    "convert_column_type(dataset, 'date', 'datetime64')\n",
    "convert_column_type(dataset, 'restaurant', str)\n",
    "convert_column_type(dataset, 'status', str)"
   ]
  },
  {
   "cell_type": "markdown",
   "metadata": {},
   "source": [
    "## State machine - convert events to orders"
   ]
  },
  {
   "cell_type": "code",
   "execution_count": 18,
   "metadata": {},
   "outputs": [],
   "source": [
    "def haversine(lat1, lon1, lat2, lon2, to_radians=True, earth_radius=6371):\n",
    "    \"\"\"\n",
    "    slightly modified version: of http://stackoverflow.com/a/29546836/2901002\n",
    "\n",
    "    Calculate the great circle distance between two points\n",
    "    on the earth (specified in decimal degrees or in radians)\n",
    "\n",
    "    All (lat, lon) coordinates must have numeric dtypes and be of equal length.\n",
    "\n",
    "    \"\"\"\n",
    "    if to_radians:\n",
    "        lat1, lon1, lat2, lon2 = np.radians([lat1, lon1, lat2, lon2])\n",
    "\n",
    "    a = np.sin((lat2-lat1)/2.0)**2 + \\\n",
    "        np.cos(lat1) * np.cos(lat2) * np.sin((lon2-lon1)/2.0)**2\n",
    "\n",
    "    return earth_radius * 2 * np.arcsin(np.sqrt(a)) * 1000"
   ]
  },
  {
   "cell_type": "code",
   "execution_count": 19,
   "metadata": {},
   "outputs": [],
   "source": [
    "data = []\n",
    "\n",
    "start_date = None\n",
    "curr_restaurant = None\n",
    "curr_total_cost = None\n",
    "curr_distance = None\n",
    "\n",
    "rest_lat = None\n",
    "rest_long = None\n",
    "dest_lat = None\n",
    "dest_long = None\n",
    "\n",
    "for index, row in dataset.iterrows():\n",
    "    restaurant = str(row['restaurant'])\n",
    "    if 'n/a' in restaurant:\n",
    "        if curr_restaurant is not None:\n",
    "            distance = haversine(rest_lat, rest_long, dest_lat, dest_long)\n",
    "            total_time_sec = (row['date']-start_date).total_seconds()\n",
    "            data.append([start_date, curr_restaurant, curr_total_cost, distance, total_time_sec])\n",
    "            \n",
    "            curr_restaurant = None\n",
    "    else:\n",
    "        if curr_restaurant is None:\n",
    "            curr_restaurant = restaurant\n",
    "            start_date = row['date']\n",
    "            curr_total_cost = row['total_cost']\n",
    "            \n",
    "            rest_lat = row['rest_lat']\n",
    "            rest_long = row['rest_long']\n",
    "            dest_lat = row['dest_lat']\n",
    "            dest_long = row['dest_long']\n",
    "        \n",
    "\n",
    "df = pd.DataFrame(data, columns=['date', 'restaurant', 'total_cost', 'distance_meters', 'total_time_sec'])"
   ]
  },
  {
   "cell_type": "code",
   "execution_count": 20,
   "metadata": {},
   "outputs": [
    {
     "data": {
      "text/plain": [
       "date               datetime64[ns]\n",
       "restaurant                 object\n",
       "total_cost                float64\n",
       "distance_meters           float64\n",
       "total_time_sec            float64\n",
       "dtype: object"
      ]
     },
     "execution_count": 20,
     "metadata": {},
     "output_type": "execute_result"
    }
   ],
   "source": [
    "df.dtypes"
   ]
  },
  {
   "cell_type": "code",
   "execution_count": 21,
   "metadata": {},
   "outputs": [
    {
     "data": {
      "text/html": [
       "<div>\n",
       "<style scoped>\n",
       "    .dataframe tbody tr th:only-of-type {\n",
       "        vertical-align: middle;\n",
       "    }\n",
       "\n",
       "    .dataframe tbody tr th {\n",
       "        vertical-align: top;\n",
       "    }\n",
       "\n",
       "    .dataframe thead th {\n",
       "        text-align: right;\n",
       "    }\n",
       "</style>\n",
       "<table border=\"1\" class=\"dataframe\">\n",
       "  <thead>\n",
       "    <tr style=\"text-align: right;\">\n",
       "      <th></th>\n",
       "      <th>0</th>\n",
       "      <th>1</th>\n",
       "      <th>2</th>\n",
       "      <th>3</th>\n",
       "      <th>4</th>\n",
       "    </tr>\n",
       "  </thead>\n",
       "  <tbody>\n",
       "    <tr>\n",
       "      <th>date</th>\n",
       "      <td>2020-03-27 12:52:08</td>\n",
       "      <td>2020-03-28 08:47:35</td>\n",
       "      <td>2020-03-30 17:58:36</td>\n",
       "      <td>2020-04-02 12:19:02</td>\n",
       "      <td>2020-04-03 08:31:33</td>\n",
       "    </tr>\n",
       "    <tr>\n",
       "      <th>restaurant</th>\n",
       "      <td>/be/api/restaurants/181</td>\n",
       "      <td>/be/api/restaurants/181</td>\n",
       "      <td>/be/api/restaurants/244</td>\n",
       "      <td>/be/api/restaurants/181</td>\n",
       "      <td>/be/api/restaurants/181</td>\n",
       "    </tr>\n",
       "    <tr>\n",
       "      <th>total_cost</th>\n",
       "      <td>21.5</td>\n",
       "      <td>20.5</td>\n",
       "      <td>25.1</td>\n",
       "      <td>22.3</td>\n",
       "      <td>20.2</td>\n",
       "    </tr>\n",
       "    <tr>\n",
       "      <th>distance_meters</th>\n",
       "      <td>1553.64</td>\n",
       "      <td>1553.64</td>\n",
       "      <td>3557.68</td>\n",
       "      <td>1553.64</td>\n",
       "      <td>1553.64</td>\n",
       "    </tr>\n",
       "    <tr>\n",
       "      <th>total_time_sec</th>\n",
       "      <td>6261</td>\n",
       "      <td>3065</td>\n",
       "      <td>3453</td>\n",
       "      <td>2028</td>\n",
       "      <td>3359</td>\n",
       "    </tr>\n",
       "  </tbody>\n",
       "</table>\n",
       "</div>"
      ],
      "text/plain": [
       "                                       0                        1  \\\n",
       "date                 2020-03-27 12:52:08      2020-03-28 08:47:35   \n",
       "restaurant       /be/api/restaurants/181  /be/api/restaurants/181   \n",
       "total_cost                          21.5                     20.5   \n",
       "distance_meters                  1553.64                  1553.64   \n",
       "total_time_sec                      6261                     3065   \n",
       "\n",
       "                                       2                        3  \\\n",
       "date                 2020-03-30 17:58:36      2020-04-02 12:19:02   \n",
       "restaurant       /be/api/restaurants/244  /be/api/restaurants/181   \n",
       "total_cost                          25.1                     22.3   \n",
       "distance_meters                  3557.68                  1553.64   \n",
       "total_time_sec                      3453                     2028   \n",
       "\n",
       "                                       4  \n",
       "date                 2020-04-03 08:31:33  \n",
       "restaurant       /be/api/restaurants/181  \n",
       "total_cost                          20.2  \n",
       "distance_meters                  1553.64  \n",
       "total_time_sec                      3359  "
      ]
     },
     "execution_count": 21,
     "metadata": {},
     "output_type": "execute_result"
    }
   ],
   "source": [
    "df.head().T"
   ]
  },
  {
   "cell_type": "markdown",
   "metadata": {},
   "source": [
    "# ===========\n",
    "# Work with processed data"
   ]
  },
  {
   "cell_type": "markdown",
   "metadata": {},
   "source": [
    "## Handle date columns"
   ]
  },
  {
   "cell_type": "markdown",
   "metadata": {},
   "source": [
    "### Extract date fields"
   ]
  },
  {
   "cell_type": "code",
   "execution_count": 22,
   "metadata": {},
   "outputs": [],
   "source": [
    "def extract_date_fields(dataset: pd.DataFrame, field_name: str):\n",
    "    df[field_name+'_year'] = df[field_name].dt.year\n",
    "    df[field_name+'_month'] = df[field_name].dt.month\n",
    "    df[field_name+'_day'] = df[field_name].dt.day\n",
    "    df[field_name+'_day_of_week'] = df[field_name].dt.dayofweek\n",
    "    df[field_name+'_hour'] = df[field_name].dt.hour\n",
    "    df[field_name+'_minute'] = df[field_name].dt.minute\n",
    "    \n",
    "    return df.drop([field_name], axis=1)"
   ]
  },
  {
   "cell_type": "code",
   "execution_count": 23,
   "metadata": {},
   "outputs": [],
   "source": [
    "df = extract_date_fields(df, 'date')"
   ]
  },
  {
   "cell_type": "markdown",
   "metadata": {},
   "source": [
    "## Encode categorical columns"
   ]
  },
  {
   "cell_type": "code",
   "execution_count": 24,
   "metadata": {},
   "outputs": [],
   "source": [
    "def encode_categorical_columns(dataset: pd.DataFrame, columns) -> Dict[str, LabelEncoder]:\n",
    "    encoders = {} \n",
    "    for column in columns:\n",
    "        if column not in dataset.columns:\n",
    "            continue\n",
    "            \n",
    "        le = LabelEncoder()\n",
    "        le.fit(dataset[column])\n",
    "\n",
    "        dataset[column] = le.transform(dataset[column])\n",
    "        encoders[column]= le\n",
    "        \n",
    "    return encoders"
   ]
  },
  {
   "cell_type": "code",
   "execution_count": 25,
   "metadata": {},
   "outputs": [],
   "source": [
    "categorical_columns += ['date_year', 'date_month', 'date_day', 'date_day_of_week', 'date_hour', 'date_minute']\n",
    "encoders = encode_categorical_columns(df, categorical_columns)"
   ]
  },
  {
   "cell_type": "markdown",
   "metadata": {},
   "source": [
    "## Convert to epoch time"
   ]
  },
  {
   "cell_type": "code",
   "execution_count": 26,
   "metadata": {},
   "outputs": [],
   "source": [
    "date_columns = ['date']"
   ]
  },
  {
   "cell_type": "code",
   "execution_count": 27,
   "metadata": {},
   "outputs": [],
   "source": [
    "def convert_date_columns_to_epoch(dataset: pd.DataFrame, timestamp_format=\"%Y-%m-%d %H:%M:%S\"):\n",
    "    for column in date_columns:\n",
    "        dataset[column] = (dataset[column] - pd.Timestamp(\"1970-01-01\")) // pd.Timedelta('1s')"
   ]
  },
  {
   "cell_type": "code",
   "execution_count": 28,
   "metadata": {},
   "outputs": [],
   "source": [
    "#convert_date_columns_to_epoch(df)"
   ]
  },
  {
   "cell_type": "code",
   "execution_count": 29,
   "metadata": {},
   "outputs": [
    {
     "data": {
      "text/plain": [
       "restaurant            int64\n",
       "total_cost          float64\n",
       "distance_meters     float64\n",
       "total_time_sec      float64\n",
       "date_year             int64\n",
       "date_month            int64\n",
       "date_day              int64\n",
       "date_day_of_week      int64\n",
       "date_hour             int64\n",
       "date_minute           int64\n",
       "dtype: object"
      ]
     },
     "execution_count": 29,
     "metadata": {},
     "output_type": "execute_result"
    }
   ],
   "source": [
    "df.dtypes"
   ]
  },
  {
   "cell_type": "code",
   "execution_count": 30,
   "metadata": {},
   "outputs": [
    {
     "data": {
      "text/html": [
       "<div>\n",
       "<style scoped>\n",
       "    .dataframe tbody tr th:only-of-type {\n",
       "        vertical-align: middle;\n",
       "    }\n",
       "\n",
       "    .dataframe tbody tr th {\n",
       "        vertical-align: top;\n",
       "    }\n",
       "\n",
       "    .dataframe thead th {\n",
       "        text-align: right;\n",
       "    }\n",
       "</style>\n",
       "<table border=\"1\" class=\"dataframe\">\n",
       "  <thead>\n",
       "    <tr style=\"text-align: right;\">\n",
       "      <th></th>\n",
       "      <th>0</th>\n",
       "      <th>1</th>\n",
       "      <th>2</th>\n",
       "      <th>3</th>\n",
       "      <th>4</th>\n",
       "    </tr>\n",
       "  </thead>\n",
       "  <tbody>\n",
       "    <tr>\n",
       "      <th>restaurant</th>\n",
       "      <td>2.000000</td>\n",
       "      <td>2.000000</td>\n",
       "      <td>6.000000</td>\n",
       "      <td>2.000000</td>\n",
       "      <td>2.000000</td>\n",
       "    </tr>\n",
       "    <tr>\n",
       "      <th>total_cost</th>\n",
       "      <td>21.500000</td>\n",
       "      <td>20.500000</td>\n",
       "      <td>25.100000</td>\n",
       "      <td>22.299999</td>\n",
       "      <td>20.200001</td>\n",
       "    </tr>\n",
       "    <tr>\n",
       "      <th>distance_meters</th>\n",
       "      <td>1553.644833</td>\n",
       "      <td>1553.644833</td>\n",
       "      <td>3557.680665</td>\n",
       "      <td>1553.644833</td>\n",
       "      <td>1553.644833</td>\n",
       "    </tr>\n",
       "    <tr>\n",
       "      <th>total_time_sec</th>\n",
       "      <td>6261.000000</td>\n",
       "      <td>3065.000000</td>\n",
       "      <td>3453.000000</td>\n",
       "      <td>2028.000000</td>\n",
       "      <td>3359.000000</td>\n",
       "    </tr>\n",
       "    <tr>\n",
       "      <th>date_year</th>\n",
       "      <td>0.000000</td>\n",
       "      <td>0.000000</td>\n",
       "      <td>0.000000</td>\n",
       "      <td>0.000000</td>\n",
       "      <td>0.000000</td>\n",
       "    </tr>\n",
       "    <tr>\n",
       "      <th>date_month</th>\n",
       "      <td>0.000000</td>\n",
       "      <td>0.000000</td>\n",
       "      <td>0.000000</td>\n",
       "      <td>1.000000</td>\n",
       "      <td>1.000000</td>\n",
       "    </tr>\n",
       "    <tr>\n",
       "      <th>date_day</th>\n",
       "      <td>26.000000</td>\n",
       "      <td>27.000000</td>\n",
       "      <td>29.000000</td>\n",
       "      <td>1.000000</td>\n",
       "      <td>2.000000</td>\n",
       "    </tr>\n",
       "    <tr>\n",
       "      <th>date_day_of_week</th>\n",
       "      <td>4.000000</td>\n",
       "      <td>5.000000</td>\n",
       "      <td>0.000000</td>\n",
       "      <td>3.000000</td>\n",
       "      <td>4.000000</td>\n",
       "    </tr>\n",
       "    <tr>\n",
       "      <th>date_hour</th>\n",
       "      <td>4.000000</td>\n",
       "      <td>0.000000</td>\n",
       "      <td>9.000000</td>\n",
       "      <td>4.000000</td>\n",
       "      <td>0.000000</td>\n",
       "    </tr>\n",
       "    <tr>\n",
       "      <th>date_minute</th>\n",
       "      <td>52.000000</td>\n",
       "      <td>47.000000</td>\n",
       "      <td>58.000000</td>\n",
       "      <td>19.000000</td>\n",
       "      <td>31.000000</td>\n",
       "    </tr>\n",
       "  </tbody>\n",
       "</table>\n",
       "</div>"
      ],
      "text/plain": [
       "                            0            1            2            3  \\\n",
       "restaurant           2.000000     2.000000     6.000000     2.000000   \n",
       "total_cost          21.500000    20.500000    25.100000    22.299999   \n",
       "distance_meters   1553.644833  1553.644833  3557.680665  1553.644833   \n",
       "total_time_sec    6261.000000  3065.000000  3453.000000  2028.000000   \n",
       "date_year            0.000000     0.000000     0.000000     0.000000   \n",
       "date_month           0.000000     0.000000     0.000000     1.000000   \n",
       "date_day            26.000000    27.000000    29.000000     1.000000   \n",
       "date_day_of_week     4.000000     5.000000     0.000000     3.000000   \n",
       "date_hour            4.000000     0.000000     9.000000     4.000000   \n",
       "date_minute         52.000000    47.000000    58.000000    19.000000   \n",
       "\n",
       "                            4  \n",
       "restaurant           2.000000  \n",
       "total_cost          20.200001  \n",
       "distance_meters   1553.644833  \n",
       "total_time_sec    3359.000000  \n",
       "date_year            0.000000  \n",
       "date_month           1.000000  \n",
       "date_day             2.000000  \n",
       "date_day_of_week     4.000000  \n",
       "date_hour            0.000000  \n",
       "date_minute         31.000000  "
      ]
     },
     "execution_count": 30,
     "metadata": {},
     "output_type": "execute_result"
    }
   ],
   "source": [
    "df.head().T"
   ]
  },
  {
   "cell_type": "markdown",
   "metadata": {},
   "source": [
    "## Scale/normalize all columns"
   ]
  },
  {
   "cell_type": "code",
   "execution_count": 31,
   "metadata": {},
   "outputs": [],
   "source": [
    "def scale_columns(dataset: pd.DataFrame, columns):\n",
    "    scaler = StandardScaler()\n",
    "    dataset[columns] = scaler.fit_transform(dataset[columns])"
   ]
  },
  {
   "cell_type": "code",
   "execution_count": 32,
   "metadata": {},
   "outputs": [],
   "source": [
    "scale_columns(df, ['total_cost', 'distance_meters'])"
   ]
  },
  {
   "cell_type": "markdown",
   "metadata": {},
   "source": [
    "## Reorder columns"
   ]
  },
  {
   "cell_type": "code",
   "execution_count": 33,
   "metadata": {},
   "outputs": [],
   "source": [
    "def reorder_columns(dataset):\n",
    "    top_columns = ['total_time_sec']\n",
    "    return dataset[[c for c in df if c not in top_columns] \n",
    "       + top_columns]"
   ]
  },
  {
   "cell_type": "code",
   "execution_count": 34,
   "metadata": {},
   "outputs": [],
   "source": [
    "df = reorder_columns(df)"
   ]
  },
  {
   "cell_type": "code",
   "execution_count": 35,
   "metadata": {
    "scrolled": true
   },
   "outputs": [
    {
     "data": {
      "text/plain": [
       "restaurant            int64\n",
       "total_cost          float64\n",
       "distance_meters     float64\n",
       "date_year             int64\n",
       "date_month            int64\n",
       "date_day              int64\n",
       "date_day_of_week      int64\n",
       "date_hour             int64\n",
       "date_minute           int64\n",
       "total_time_sec      float64\n",
       "dtype: object"
      ]
     },
     "execution_count": 35,
     "metadata": {},
     "output_type": "execute_result"
    }
   ],
   "source": [
    "df.dtypes"
   ]
  },
  {
   "cell_type": "code",
   "execution_count": 36,
   "metadata": {},
   "outputs": [
    {
     "data": {
      "text/html": [
       "<div>\n",
       "<style scoped>\n",
       "    .dataframe tbody tr th:only-of-type {\n",
       "        vertical-align: middle;\n",
       "    }\n",
       "\n",
       "    .dataframe tbody tr th {\n",
       "        vertical-align: top;\n",
       "    }\n",
       "\n",
       "    .dataframe thead th {\n",
       "        text-align: right;\n",
       "    }\n",
       "</style>\n",
       "<table border=\"1\" class=\"dataframe\">\n",
       "  <thead>\n",
       "    <tr style=\"text-align: right;\">\n",
       "      <th></th>\n",
       "      <th>0</th>\n",
       "      <th>1</th>\n",
       "      <th>2</th>\n",
       "      <th>3</th>\n",
       "      <th>4</th>\n",
       "    </tr>\n",
       "  </thead>\n",
       "  <tbody>\n",
       "    <tr>\n",
       "      <th>restaurant</th>\n",
       "      <td>2.000000</td>\n",
       "      <td>2.000000</td>\n",
       "      <td>6.000000</td>\n",
       "      <td>2.000000</td>\n",
       "      <td>2.000000</td>\n",
       "    </tr>\n",
       "    <tr>\n",
       "      <th>total_cost</th>\n",
       "      <td>-0.832352</td>\n",
       "      <td>-0.974364</td>\n",
       "      <td>-0.321107</td>\n",
       "      <td>-0.718742</td>\n",
       "      <td>-1.016968</td>\n",
       "    </tr>\n",
       "    <tr>\n",
       "      <th>distance_meters</th>\n",
       "      <td>-1.039000</td>\n",
       "      <td>-1.039000</td>\n",
       "      <td>0.243791</td>\n",
       "      <td>-1.039000</td>\n",
       "      <td>-1.039000</td>\n",
       "    </tr>\n",
       "    <tr>\n",
       "      <th>date_year</th>\n",
       "      <td>0.000000</td>\n",
       "      <td>0.000000</td>\n",
       "      <td>0.000000</td>\n",
       "      <td>0.000000</td>\n",
       "      <td>0.000000</td>\n",
       "    </tr>\n",
       "    <tr>\n",
       "      <th>date_month</th>\n",
       "      <td>0.000000</td>\n",
       "      <td>0.000000</td>\n",
       "      <td>0.000000</td>\n",
       "      <td>1.000000</td>\n",
       "      <td>1.000000</td>\n",
       "    </tr>\n",
       "    <tr>\n",
       "      <th>date_day</th>\n",
       "      <td>26.000000</td>\n",
       "      <td>27.000000</td>\n",
       "      <td>29.000000</td>\n",
       "      <td>1.000000</td>\n",
       "      <td>2.000000</td>\n",
       "    </tr>\n",
       "    <tr>\n",
       "      <th>date_day_of_week</th>\n",
       "      <td>4.000000</td>\n",
       "      <td>5.000000</td>\n",
       "      <td>0.000000</td>\n",
       "      <td>3.000000</td>\n",
       "      <td>4.000000</td>\n",
       "    </tr>\n",
       "    <tr>\n",
       "      <th>date_hour</th>\n",
       "      <td>4.000000</td>\n",
       "      <td>0.000000</td>\n",
       "      <td>9.000000</td>\n",
       "      <td>4.000000</td>\n",
       "      <td>0.000000</td>\n",
       "    </tr>\n",
       "    <tr>\n",
       "      <th>date_minute</th>\n",
       "      <td>52.000000</td>\n",
       "      <td>47.000000</td>\n",
       "      <td>58.000000</td>\n",
       "      <td>19.000000</td>\n",
       "      <td>31.000000</td>\n",
       "    </tr>\n",
       "    <tr>\n",
       "      <th>total_time_sec</th>\n",
       "      <td>6261.000000</td>\n",
       "      <td>3065.000000</td>\n",
       "      <td>3453.000000</td>\n",
       "      <td>2028.000000</td>\n",
       "      <td>3359.000000</td>\n",
       "    </tr>\n",
       "  </tbody>\n",
       "</table>\n",
       "</div>"
      ],
      "text/plain": [
       "                            0            1            2            3  \\\n",
       "restaurant           2.000000     2.000000     6.000000     2.000000   \n",
       "total_cost          -0.832352    -0.974364    -0.321107    -0.718742   \n",
       "distance_meters     -1.039000    -1.039000     0.243791    -1.039000   \n",
       "date_year            0.000000     0.000000     0.000000     0.000000   \n",
       "date_month           0.000000     0.000000     0.000000     1.000000   \n",
       "date_day            26.000000    27.000000    29.000000     1.000000   \n",
       "date_day_of_week     4.000000     5.000000     0.000000     3.000000   \n",
       "date_hour            4.000000     0.000000     9.000000     4.000000   \n",
       "date_minute         52.000000    47.000000    58.000000    19.000000   \n",
       "total_time_sec    6261.000000  3065.000000  3453.000000  2028.000000   \n",
       "\n",
       "                            4  \n",
       "restaurant           2.000000  \n",
       "total_cost          -1.016968  \n",
       "distance_meters     -1.039000  \n",
       "date_year            0.000000  \n",
       "date_month           1.000000  \n",
       "date_day             2.000000  \n",
       "date_day_of_week     4.000000  \n",
       "date_hour            0.000000  \n",
       "date_minute         31.000000  \n",
       "total_time_sec    3359.000000  "
      ]
     },
     "execution_count": 36,
     "metadata": {},
     "output_type": "execute_result"
    }
   ],
   "source": [
    "df.head().T"
   ]
  },
  {
   "cell_type": "code",
   "execution_count": 37,
   "metadata": {},
   "outputs": [],
   "source": [
    "def prepare_dataset(dataset: pd.DataFrame) -> pd.DataFrame:\n",
    "    encode_categorical_columns(dataset)\n",
    "    dataset = extract_date_fields(dataset, 'date')\n",
    "    #convert_date_columns_to_epoch(dataset)\n",
    "\n",
    "    scale_columns(dataset)\n",
    "    dataset = reorder_columns(dataset)\n",
    "    \n",
    "    return dataset"
   ]
  },
  {
   "cell_type": "markdown",
   "metadata": {},
   "source": [
    "# =======\n",
    "# Check regression models"
   ]
  },
  {
   "cell_type": "markdown",
   "metadata": {},
   "source": [
    "# Split dataset"
   ]
  },
  {
   "cell_type": "code",
   "execution_count": 38,
   "metadata": {},
   "outputs": [],
   "source": [
    "def split_dataset(dataset: pd.DataFrame): \n",
    "    X = dataset.iloc[:, :-1]\n",
    "    y = dataset.iloc[:, -1]\n",
    "\n",
    "    return train_test_split(X, y, test_size=0.2, random_state = 0)"
   ]
  },
  {
   "cell_type": "code",
   "execution_count": 39,
   "metadata": {},
   "outputs": [],
   "source": [
    "X_train, X_test, y_train, y_test = split_dataset(df)"
   ]
  },
  {
   "cell_type": "markdown",
   "metadata": {},
   "source": [
    "# Train models"
   ]
  },
  {
   "cell_type": "code",
   "execution_count": 40,
   "metadata": {},
   "outputs": [],
   "source": [
    "models_result = {}"
   ]
  },
  {
   "cell_type": "code",
   "execution_count": 41,
   "metadata": {},
   "outputs": [],
   "source": [
    "def update_result_print(models_result, model_name, regr, X_test, y_test):\n",
    "    from sklearn.metrics import r2_score\n",
    "    \n",
    "    y_pred = regr.predict(X_test)\n",
    "    y_test = y_test.values.tolist()\n",
    "    \n",
    "    print(\"y_pred:\")\n",
    "    print(y_pred)\n",
    "    print(\"y_test:\")\n",
    "    print(y_test)\n",
    "\n",
    "    accuracy = r2_score(y_test, y_pred)\n",
    "\n",
    "    models_result[model_name] = accuracy\n",
    "    print(f'\"{model_name}\" has r2_score: {accuracy}') \n",
    "    return accuracy"
   ]
  },
  {
   "cell_type": "code",
   "execution_count": 42,
   "metadata": {},
   "outputs": [],
   "source": [
    "def plot_features_importances(regressor, X_train):\n",
    "    series = pd.Series(regressor.feature_importances_, index=X_train.columns).sort_values(ascending=True)\n",
    "    series = series.plot(kind='barh', figsize=(10,10))\n",
    "    plt.xlabel('Feature importance')\n",
    "    plt.ylabel('Features')\n",
    "    plt.show()"
   ]
  },
  {
   "cell_type": "markdown",
   "metadata": {},
   "source": [
    "## Random forest"
   ]
  },
  {
   "cell_type": "code",
   "execution_count": 43,
   "metadata": {},
   "outputs": [],
   "source": [
    "def random_forest(X_train, y_train):\n",
    "    from sklearn.ensemble import RandomForestRegressor\n",
    "    regr = RandomForestRegressor(max_depth=2, n_estimators = 20, random_state = 0)\n",
    "\n",
    "    regr.fit(X_train, y_train)\n",
    "    \n",
    "    return regr"
   ]
  },
  {
   "cell_type": "code",
   "execution_count": 44,
   "metadata": {},
   "outputs": [
    {
     "name": "stdout",
     "output_type": "stream",
     "text": [
      "y_pred:\n",
      "[ 5025.93969671  3558.29936921  4134.80456178  4482.27614384\n",
      "  4633.98728951  4696.98147556  4482.27614384  4358.50674707\n",
      "  4137.04102131  4696.98147556  3498.19706988  4757.74113567\n",
      "  3887.28968053  4419.28195779  3495.14001576  3581.53422312\n",
      "  4028.50658705  3495.14001576  4482.27614384  3999.58671397\n",
      "  3495.14001576  3434.36480503  4060.3619247   4820.73532171\n",
      "  4696.98147556  4134.80456178  3999.58671397  4127.28894127\n",
      "  4633.98728951 19131.94659889  5052.71825695  4421.50093311\n",
      "  4195.57977251  4195.57977251  4664.21490495  4833.94410853\n",
      "  4482.27614384  3532.03809309  4573.21207879  4757.74113567\n",
      "  4195.57977251  3903.21525825  4229.89365548  4195.57977251\n",
      "  4038.43310605  3486.44512942  3495.14001576  3903.21525825\n",
      "  4421.50093311  4696.98147556  4133.52219976]\n",
      "y_test:\n",
      "[6024.0, 2366.0, 6392.0, 6118.0, 6003.0, 3329.0, 2475.0, 7667.0, 4817.0, 3882.0, 2681.0, 4520.0, 2809.0, 2058.0, 2604.0, 1553.0, 1753.0, 4131.0, 6369.0, 3255.0, 3666.0, 2139.0, 3333.0, 3304.0, 4125.0, 3094.0, 1697.0, 2989.0, 6228.0, 2612.0, 2416.0, 7733.0, 2868.0, 6280.0, 4562.0, 6794.0, 4480.0, 4664.0, 3663.0, 3157.0, 4643.0, 1495.0, 4336.0, 3077.0, 3853.0, 2280.0, 2977.0, 2315.0, 6921.0, 5380.0, 3954.0]\n",
      "\"Random forest\" has r2_score: -1.7879132998875864\n"
     ]
    },
    {
     "data": {
      "image/png": "[encoded data removed]",
      "text/plain": [
       "<Figure size 720x720 with 1 Axes>"
      ]
     },
     "metadata": {
      "needs_background": "light"
     },
     "output_type": "display_data"
    }
   ],
   "source": [
    "rf_rgr = random_forest(X_train, y_train)\n",
    "update_result_print(models_result, 'Random forest', rf_rgr, X_test, y_test)\n",
    "plot_features_importances(rf_rgr, X_train)"
   ]
  },
  {
   "cell_type": "markdown",
   "metadata": {},
   "source": [
    "## K-Nearest Neighbors"
   ]
  },
  {
   "cell_type": "code",
   "execution_count": 45,
   "metadata": {},
   "outputs": [],
   "source": [
    "def k_nearest(X_train, y_train):\n",
    "    from sklearn.neighbors import KNeighborsRegressor\n",
    "    regr = KNeighborsRegressor(n_neighbors=8)\n",
    "    \n",
    "    regr.fit(X_train, y_train)\n",
    "    \n",
    "    return regr"
   ]
  },
  {
   "cell_type": "code",
   "execution_count": 46,
   "metadata": {},
   "outputs": [
    {
     "name": "stdout",
     "output_type": "stream",
     "text": [
      "y_pred:\n",
      "[ 4798.125  6223.375  3997.5    6526.625  3834.375  7023.25   5558.5\n",
      "  5286.     4776.     4462.875  7479.5    5021.625  3669.5    4844.5\n",
      "  4853.375  4051.     3273.     3225.25   4708.375  2692.375  3263.75\n",
      "  3505.875  2823.125  4126.125  3338.875  3273.    15906.125  4178.5\n",
      "  3861.5    4588.625  5558.5    5244.125  4096.375  4868.75   4984.25\n",
      "  5639.125  4045.125  4553.875  4123.5    3773.     7448.25   5230.375\n",
      "  4006.     4005.375  3868.     3444.125  3447.875  4528.375  5050.625\n",
      "  3206.875  4582.5  ]\n",
      "y_test:\n",
      "[6024.0, 2366.0, 6392.0, 6118.0, 6003.0, 3329.0, 2475.0, 7667.0, 4817.0, 3882.0, 2681.0, 4520.0, 2809.0, 2058.0, 2604.0, 1553.0, 1753.0, 4131.0, 6369.0, 3255.0, 3666.0, 2139.0, 3333.0, 3304.0, 4125.0, 3094.0, 1697.0, 2989.0, 6228.0, 2612.0, 2416.0, 7733.0, 2868.0, 6280.0, 4562.0, 6794.0, 4480.0, 4664.0, 3663.0, 3157.0, 4643.0, 1495.0, 4336.0, 3077.0, 3853.0, 2280.0, 2977.0, 2315.0, 6921.0, 5380.0, 3954.0]\n",
      "\"K-Nearest Neighbors\" has r2_score: -1.7215697120882614\n"
     ]
    },
    {
     "data": {
      "text/plain": [
       "-1.7215697120882614"
      ]
     },
     "execution_count": 46,
     "metadata": {},
     "output_type": "execute_result"
    }
   ],
   "source": [
    "k_nearest_regr = k_nearest(X_train, y_train)\n",
    "update_result_print(models_result, 'K-Nearest Neighbors', k_nearest_regr, X_test, y_test)\n",
    "#plot_features_importances(k_nearest_regr, X_train)"
   ]
  },
  {
   "cell_type": "markdown",
   "metadata": {},
   "source": [
    "## Decision tree"
   ]
  },
  {
   "cell_type": "code",
   "execution_count": 47,
   "metadata": {},
   "outputs": [],
   "source": [
    "def decision_tree(X_train, y_train):\n",
    "    from sklearn.tree import DecisionTreeRegressor\n",
    "    regr = DecisionTreeRegressor(max_depth=4)\n",
    "    \n",
    "    regr.fit(X_train, y_train)\n",
    "    \n",
    "    return regr"
   ]
  },
  {
   "cell_type": "code",
   "execution_count": 48,
   "metadata": {},
   "outputs": [
    {
     "name": "stdout",
     "output_type": "stream",
     "text": [
      "y_pred:\n",
      "[5752.15384615 4177.36363636 4177.36363636 4257.66666667 4257.66666667\n",
      " 4257.66666667 4257.66666667 4257.66666667 6132.         4257.66666667\n",
      " 4177.36363636 5752.15384615 4417.05555556 4257.66666667 2993.14893617\n",
      " 4417.05555556 2993.14893617 2993.14893617 4257.66666667 2993.14893617\n",
      " 2993.14893617 2993.14893617 2993.14893617 5752.15384615 4257.66666667\n",
      " 4177.36363636 2993.14893617 4177.36363636 4257.66666667 4417.05555556\n",
      " 4257.66666667 4257.66666667 4177.36363636 4177.36363636 4257.66666667\n",
      " 5752.15384615 4257.66666667 3192.73333333 4257.66666667 5752.15384615\n",
      " 4177.36363636 2993.14893617 4177.36363636 4177.36363636 4177.36363636\n",
      " 2993.14893617 2993.14893617 2993.14893617 4257.66666667 4257.66666667\n",
      " 4177.36363636]\n",
      "y_test:\n",
      "[6024.0, 2366.0, 6392.0, 6118.0, 6003.0, 3329.0, 2475.0, 7667.0, 4817.0, 3882.0, 2681.0, 4520.0, 2809.0, 2058.0, 2604.0, 1553.0, 1753.0, 4131.0, 6369.0, 3255.0, 3666.0, 2139.0, 3333.0, 3304.0, 4125.0, 3094.0, 1697.0, 2989.0, 6228.0, 2612.0, 2416.0, 7733.0, 2868.0, 6280.0, 4562.0, 6794.0, 4480.0, 4664.0, 3663.0, 3157.0, 4643.0, 1495.0, 4336.0, 3077.0, 3853.0, 2280.0, 2977.0, 2315.0, 6921.0, 5380.0, 3954.0]\n",
      "\"Decision tree\" has r2_score: 0.12162581470397082\n"
     ]
    },
    {
     "data": {
      "text/plain": [
       "0.12162581470397082"
      ]
     },
     "execution_count": 48,
     "metadata": {},
     "output_type": "execute_result"
    }
   ],
   "source": [
    "decision_tree_regr = decision_tree(X_train, y_train)\n",
    "update_result_print(models_result, 'Decision tree', decision_tree_regr, X_test, y_test)\n",
    "#plot_features_importances(decision_tree_regr, X_train)"
   ]
  },
  {
   "cell_type": "markdown",
   "metadata": {},
   "source": [
    "## Linear regression"
   ]
  },
  {
   "cell_type": "code",
   "execution_count": 49,
   "metadata": {},
   "outputs": [],
   "source": [
    "def linear(X_train, y_train):\n",
    "    from sklearn.linear_model import LinearRegression\n",
    "    regr = LinearRegression()\n",
    "    \n",
    "    regr.fit(X_train, y_train)\n",
    "    \n",
    "    return regr"
   ]
  },
  {
   "cell_type": "code",
   "execution_count": 50,
   "metadata": {
    "scrolled": true
   },
   "outputs": [
    {
     "name": "stdout",
     "output_type": "stream",
     "text": [
      "y_pred:\n",
      "[3148.25245628 4078.57335895 3491.01203397 4990.02897593 5501.80670868\n",
      " 3917.36911183 6399.4591701  5970.66277203 4090.18227003 3199.64689094\n",
      " 3797.01828448 5727.06383544 4816.93804061 3951.88595801 5148.39987821\n",
      " 2800.86101481 3556.83208427 6193.78245561 3178.62161138 4433.56593629\n",
      " 6258.96331875 6443.05863938 4790.59729864 3905.59280005 3535.6763181\n",
      " 2864.32822809 5930.62217075 4265.18661875 6089.57425158 7194.46571209\n",
      " 6329.66566924 3653.16307694 4407.33446268 3710.36527903 4908.74745211\n",
      " 5603.98071832 5282.58100479 6256.37071396 6463.95258256 3346.68763267\n",
      " 3602.60619569 6788.61631875 4426.59563434 3276.42739498 5894.53172113\n",
      " 3531.20866985 6220.19925873 7432.89120438 3833.77071246 3769.46261483\n",
      " 3175.61642876]\n",
      "y_test:\n",
      "[6024.0, 2366.0, 6392.0, 6118.0, 6003.0, 3329.0, 2475.0, 7667.0, 4817.0, 3882.0, 2681.0, 4520.0, 2809.0, 2058.0, 2604.0, 1553.0, 1753.0, 4131.0, 6369.0, 3255.0, 3666.0, 2139.0, 3333.0, 3304.0, 4125.0, 3094.0, 1697.0, 2989.0, 6228.0, 2612.0, 2416.0, 7733.0, 2868.0, 6280.0, 4562.0, 6794.0, 4480.0, 4664.0, 3663.0, 3157.0, 4643.0, 1495.0, 4336.0, 3077.0, 3853.0, 2280.0, 2977.0, 2315.0, 6921.0, 5380.0, 3954.0]\n",
      "\"Linear\" has r2_score: -1.0306889148843412\n"
     ]
    },
    {
     "data": {
      "text/plain": [
       "-1.0306889148843412"
      ]
     },
     "execution_count": 50,
     "metadata": {},
     "output_type": "execute_result"
    }
   ],
   "source": [
    "linear_regr = linear(X_train, y_train)\n",
    "update_result_print(models_result, 'Linear', linear_regr, X_test, y_test)\n",
    "#plot_features_importances(linear_regr, X_train)"
   ]
  },
  {
   "cell_type": "markdown",
   "metadata": {},
   "source": [
    "## Ridge regression"
   ]
  },
  {
   "cell_type": "code",
   "execution_count": 51,
   "metadata": {},
   "outputs": [],
   "source": [
    "def ridge(X_train, y_train):\n",
    "    from sklearn.linear_model import Ridge\n",
    "    regr = Ridge(alpha=.5)\n",
    "    \n",
    "    regr.fit(X_train, y_train)\n",
    "    \n",
    "    return regr"
   ]
  },
  {
   "cell_type": "code",
   "execution_count": 52,
   "metadata": {},
   "outputs": [
    {
     "name": "stdout",
     "output_type": "stream",
     "text": [
      "y_pred:\n",
      "[3148.85327084 4079.1510543  3490.71777278 4989.66625652 5501.73196809\n",
      " 3917.15505201 6399.34744784 5970.51176921 4090.16653916 3197.14484689\n",
      " 3798.13661652 5727.36107909 4816.87957984 3952.25007022 5148.52223663\n",
      " 2802.0419935  3557.28094173 6193.86891934 3178.84560052 4433.73755374\n",
      " 6258.98230261 6442.80560368 4790.64231068 3906.1898102  3535.51055725\n",
      " 2864.65412192 5930.21162442 4265.48371698 6089.41996353 7193.92298786\n",
      " 6329.74053821 3653.28313374 4407.42877323 3711.00718568 4908.54803006\n",
      " 5603.27890365 5282.20042997 6255.48082082 6463.10150558 3347.02221146\n",
      " 3602.82971219 6787.95400751 4426.84738041 3276.68600405 5894.38064098\n",
      " 3532.47813814 6220.36544175 7432.09216764 3833.70416966 3769.18148182\n",
      " 3175.92394646]\n",
      "y_test:\n",
      "[6024.0, 2366.0, 6392.0, 6118.0, 6003.0, 3329.0, 2475.0, 7667.0, 4817.0, 3882.0, 2681.0, 4520.0, 2809.0, 2058.0, 2604.0, 1553.0, 1753.0, 4131.0, 6369.0, 3255.0, 3666.0, 2139.0, 3333.0, 3304.0, 4125.0, 3094.0, 1697.0, 2989.0, 6228.0, 2612.0, 2416.0, 7733.0, 2868.0, 6280.0, 4562.0, 6794.0, 4480.0, 4664.0, 3663.0, 3157.0, 4643.0, 1495.0, 4336.0, 3077.0, 3853.0, 2280.0, 2977.0, 2315.0, 6921.0, 5380.0, 3954.0]\n",
      "\"Ridge\" has r2_score: -1.0305678265727551\n"
     ]
    },
    {
     "data": {
      "text/plain": [
       "-1.0305678265727551"
      ]
     },
     "execution_count": 52,
     "metadata": {},
     "output_type": "execute_result"
    }
   ],
   "source": [
    "ridge_regr = ridge(X_train, y_train)\n",
    "update_result_print(models_result, 'Ridge', ridge_regr, X_test, y_test)\n",
    "#plot_features_importances(ridge_regr, X_train)"
   ]
  },
  {
   "cell_type": "markdown",
   "metadata": {},
   "source": [
    "## Multi-layer perceptron\n",
    "TODO requires OneHotEncoder"
   ]
  },
  {
   "cell_type": "code",
   "execution_count": 53,
   "metadata": {},
   "outputs": [],
   "source": [
    "def mlp(X_train, y_train):\n",
    "    from sklearn.neural_network import MLPRegressor\n",
    "    regr = MLPRegressor(solver='adam', alpha=1e-5,\n",
    "                        hidden_layer_sizes=(X_train.columns.size, X_train.columns.size+10), \n",
    "                        max_iter=1000, activation='relu',\n",
    "                        learning_rate_init=.01,\n",
    "                        random_state=0)\n",
    "    \n",
    "    regr.fit(X_train, y_train)\n",
    "    \n",
    "    return regr"
   ]
  },
  {
   "cell_type": "code",
   "execution_count": 54,
   "metadata": {},
   "outputs": [
    {
     "name": "stdout",
     "output_type": "stream",
     "text": [
      "y_pred:\n",
      "[1645.05008833 5075.27089743 4541.22107221 5422.33809963 5766.9643315\n",
      " 5467.03752892 5959.78557269 6038.17210077 4867.60896613 5149.06784944\n",
      " 5383.73496947 5124.61102512 5447.08107616 8405.77857272 1097.15033484\n",
      " 6855.0986518  3974.48228515 2724.07020532 6124.7001712  5652.99912057\n",
      " 2464.76405691 2221.40361401 2942.78855869 3568.53659883 4572.27334854\n",
      " 4549.30443741 4751.34210333 6297.52996867 7001.98012995 4791.54854584\n",
      " 5923.24732731 5171.08855797 5460.62778962 4659.35030491 7013.20657966\n",
      " 3888.35242592 4602.69037265  817.30828534 5801.50677952 2925.00700708\n",
      " 5359.9178002  5680.83518214 7862.82156124 4330.89528981 6897.14933759\n",
      " 7172.06977139 2422.51143116 4506.8691675  4058.48610786 3282.45701044\n",
      " 5495.21103306]\n",
      "y_test:\n",
      "[6024.0, 2366.0, 6392.0, 6118.0, 6003.0, 3329.0, 2475.0, 7667.0, 4817.0, 3882.0, 2681.0, 4520.0, 2809.0, 2058.0, 2604.0, 1553.0, 1753.0, 4131.0, 6369.0, 3255.0, 3666.0, 2139.0, 3333.0, 3304.0, 4125.0, 3094.0, 1697.0, 2989.0, 6228.0, 2612.0, 2416.0, 7733.0, 2868.0, 6280.0, 4562.0, 6794.0, 4480.0, 4664.0, 3663.0, 3157.0, 4643.0, 1495.0, 4336.0, 3077.0, 3853.0, 2280.0, 2977.0, 2315.0, 6921.0, 5380.0, 3954.0]\n",
      "\"Multi-layer perceptron\" has r2_score: -1.328611116738092\n"
     ]
    },
    {
     "data": {
      "text/plain": [
       "-1.328611116738092"
      ]
     },
     "execution_count": 54,
     "metadata": {},
     "output_type": "execute_result"
    }
   ],
   "source": [
    "mlp_regr = mlp(X_train, y_train)\n",
    "update_result_print(models_result, 'Multi-layer perceptron', mlp_regr, X_test, y_test)\n",
    "#plot_features_importances(mlp_regr, X_train)"
   ]
  },
  {
   "cell_type": "markdown",
   "metadata": {},
   "source": [
    "## Support Vector Machine"
   ]
  },
  {
   "cell_type": "code",
   "execution_count": 55,
   "metadata": {},
   "outputs": [],
   "source": [
    "def svm(X_train, y_train):\n",
    "    from sklearn.svm import SVR \n",
    "    regr = SVR(kernel='poly', degree=2)\n",
    "    \n",
    "    regr.fit(X_train, y_train)\n",
    "    \n",
    "    return regr"
   ]
  },
  {
   "cell_type": "code",
   "execution_count": 56,
   "metadata": {
    "scrolled": true
   },
   "outputs": [
    {
     "name": "stdout",
     "output_type": "stream",
     "text": [
      "y_pred:\n",
      "[3649.35964926 3651.82050808 3650.13640995 3651.46087533 3653.6757721\n",
      " 3650.47149669 3657.62867172 3660.25543765 3656.24194725 3653.14800751\n",
      " 3650.26561673 3658.83583778 3658.80477941 3669.26461128 3649.46501233\n",
      " 3661.5258953  3650.19422224 3653.9160419  3654.49034563 3659.16917348\n",
      " 3652.61285542 3651.49140584 3651.54859889 3651.00309852 3649.0127229\n",
      " 3650.235603   3659.75467265 3656.19318918 3667.24658965 3669.08883094\n",
      " 3657.64641723 3648.22503434 3649.04177829 3649.15818142 3658.07515092\n",
      " 3658.31384711 3654.83934488 3649.55729701 3656.32247159 3651.16674756\n",
      " 3649.98597223 3664.56400724 3669.4794922  3651.0790777  3659.64726552\n",
      " 3661.28386653 3652.17698738 3654.68046705 3653.59376708 3651.5958396\n",
      " 3653.96024876]\n",
      "y_test:\n",
      "[6024.0, 2366.0, 6392.0, 6118.0, 6003.0, 3329.0, 2475.0, 7667.0, 4817.0, 3882.0, 2681.0, 4520.0, 2809.0, 2058.0, 2604.0, 1553.0, 1753.0, 4131.0, 6369.0, 3255.0, 3666.0, 2139.0, 3333.0, 3304.0, 4125.0, 3094.0, 1697.0, 2989.0, 6228.0, 2612.0, 2416.0, 7733.0, 2868.0, 6280.0, 4562.0, 6794.0, 4480.0, 4664.0, 3663.0, 3157.0, 4643.0, 1495.0, 4336.0, 3077.0, 3853.0, 2280.0, 2977.0, 2315.0, 6921.0, 5380.0, 3954.0]\n",
      "\"Support Vector Machine\" has r2_score: -0.034493317959015224\n"
     ]
    },
    {
     "data": {
      "text/plain": [
       "-0.034493317959015224"
      ]
     },
     "execution_count": 56,
     "metadata": {},
     "output_type": "execute_result"
    }
   ],
   "source": [
    "svm_regr = svm(X_train, y_train)\n",
    "update_result_print(models_result, 'Support Vector Machine', svm_regr, X_test, y_test)\n",
    "#plot_features_importances(svm_regr, X_train)"
   ]
  },
  {
   "cell_type": "markdown",
   "metadata": {},
   "source": [
    "## ElasticNet"
   ]
  },
  {
   "cell_type": "code",
   "execution_count": 57,
   "metadata": {},
   "outputs": [],
   "source": [
    "def elastic(X_train, y_train):\n",
    "    from sklearn.linear_model import ElasticNetCV\n",
    "    regr = ElasticNetCV()\n",
    "    \n",
    "    regr.fit(X_train, y_train)\n",
    "    \n",
    "    return regr"
   ]
  },
  {
   "cell_type": "code",
   "execution_count": 58,
   "metadata": {
    "scrolled": true
   },
   "outputs": [
    {
     "name": "stdout",
     "output_type": "stream",
     "text": [
      "y_pred:\n",
      "[4520.20946913 4499.449286   4298.17701036 4572.18310474 4922.22743419\n",
      " 4444.58852541 5015.08102134 5037.11831527 4664.7494597  4306.0094038\n",
      " 4594.03397354 5075.06956896 4542.85065788 4767.63029188 4527.88962373\n",
      " 4654.83266367 4356.25060205 4749.73803863 4465.08362151 4770.62871142\n",
      " 4756.62326496 4784.55081534 4603.31446243 4767.49729831 4312.70727667\n",
      " 4389.69751342 4998.00734148 4734.16506944 4987.81203028 5010.2228179\n",
      " 5008.00020342 4529.53671197 4596.59306017 4528.41733996 4661.03251854\n",
      " 4710.54689949 4669.12471909 4559.70895813 4945.48863995 4528.82359517\n",
      " 4487.70800446 5031.48853346 4831.37341242 4316.18471002 4828.59627365\n",
      " 4807.59701211 4760.09430571 5004.94395656 4546.76256093 4420.01041616\n",
      " 4394.37422741]\n",
      "y_test:\n",
      "[6024.0, 2366.0, 6392.0, 6118.0, 6003.0, 3329.0, 2475.0, 7667.0, 4817.0, 3882.0, 2681.0, 4520.0, 2809.0, 2058.0, 2604.0, 1553.0, 1753.0, 4131.0, 6369.0, 3255.0, 3666.0, 2139.0, 3333.0, 3304.0, 4125.0, 3094.0, 1697.0, 2989.0, 6228.0, 2612.0, 2416.0, 7733.0, 2868.0, 6280.0, 4562.0, 6794.0, 4480.0, 4664.0, 3663.0, 3157.0, 4643.0, 1495.0, 4336.0, 3077.0, 3853.0, 2280.0, 2977.0, 2315.0, 6921.0, 5380.0, 3954.0]\n",
      "\"ElasticNet\" has r2_score: -0.24771389519097542\n"
     ]
    },
    {
     "data": {
      "text/plain": [
       "-0.24771389519097542"
      ]
     },
     "execution_count": 58,
     "metadata": {},
     "output_type": "execute_result"
    }
   ],
   "source": [
    "elastic_regr = elastic(X_train, y_train)\n",
    "update_result_print(models_result, 'ElasticNet', elastic_regr, X_test, y_test)\n",
    "#plot_features_importances(elastic_regr, X_train)"
   ]
  },
  {
   "cell_type": "markdown",
   "metadata": {},
   "source": [
    "# Results"
   ]
  },
  {
   "cell_type": "code",
   "execution_count": 59,
   "metadata": {},
   "outputs": [
    {
     "name": "stdout",
     "output_type": "stream",
     "text": [
      "Decision tree             0.12162581470397082\n",
      "Support Vector Machine    -0.034493317959015224\n",
      "ElasticNet                -0.24771389519097542\n",
      "Ridge                     -1.0305678265727551\n",
      "Linear                    -1.0306889148843412\n",
      "Multi-layer perceptron    -1.328611116738092\n",
      "K-Nearest Neighbors       -1.7215697120882614\n",
      "Random forest             -1.7879132998875864\n"
     ]
    }
   ],
   "source": [
    "for k,v in sorted(models_result.items(), key=lambda entry:entry[1], reverse=True):\n",
    "    print(f'{k:25s} {v}')"
   ]
  }
 ],
 "metadata": {
  "kernelspec": {
   "display_name": "Python 3",
   "language": "python",
   "name": "python3"
  },
  "language_info": {
   "codemirror_mode": {
    "name": "ipython",
    "version": 3
   },
   "file_extension": ".py",
   "mimetype": "text/x-python",
   "name": "python",
   "nbconvert_exporter": "python",
   "pygments_lexer": "ipython3",
   "version": "3.7.7"
  }
 },
 "nbformat": 4,
 "nbformat_minor": 2
}
