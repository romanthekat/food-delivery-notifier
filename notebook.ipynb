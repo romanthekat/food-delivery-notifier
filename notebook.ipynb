{
 "cells": [
  {
   "cell_type": "raw",
   "metadata": {},
   "source": [
    "%config IPCompleter.greedy=True"
   ]
  },
  {
   "cell_type": "code",
   "execution_count": 1,
   "metadata": {},
   "outputs": [],
   "source": [
    "import pandas as pd\n",
    "import numpy as np\n",
    "import matplotlib.pyplot as plt\n",
    "import geopandas\n",
    "\n",
    "from sklearn.preprocessing import LabelEncoder, StandardScaler\n",
    "from sklearn.model_selection import train_test_split\n",
    "\n",
    "import time\n",
    "import datetime\n",
    "from typing import Dict, Tuple"
   ]
  },
  {
   "cell_type": "markdown",
   "metadata": {},
   "source": [
    "# Load raw data"
   ]
  },
  {
   "cell_type": "code",
   "execution_count": 2,
   "metadata": {},
   "outputs": [],
   "source": [
    "data_raw_filename = \"data_raw_fake.csv\""
   ]
  },
  {
   "cell_type": "code",
   "execution_count": 3,
   "metadata": {},
   "outputs": [],
   "source": [
    "dataset = pd.read_csv(data_raw_filename)"
   ]
  },
  {
   "cell_type": "code",
   "execution_count": 4,
   "metadata": {},
   "outputs": [
    {
     "data": {
      "text/html": [
       "<div>\n",
       "<style scoped>\n",
       "    .dataframe tbody tr th:only-of-type {\n",
       "        vertical-align: middle;\n",
       "    }\n",
       "\n",
       "    .dataframe tbody tr th {\n",
       "        vertical-align: top;\n",
       "    }\n",
       "\n",
       "    .dataframe thead th {\n",
       "        text-align: right;\n",
       "    }\n",
       "</style>\n",
       "<table border=\"1\" class=\"dataframe\">\n",
       "  <thead>\n",
       "    <tr style=\"text-align: right;\">\n",
       "      <th></th>\n",
       "      <th>0</th>\n",
       "      <th>1</th>\n",
       "      <th>2</th>\n",
       "      <th>3</th>\n",
       "      <th>4</th>\n",
       "    </tr>\n",
       "  </thead>\n",
       "  <tbody>\n",
       "    <tr>\n",
       "      <th>date</th>\n",
       "      <td>2020-03-27 12:52:08</td>\n",
       "      <td>2020-03-27 14:36:29</td>\n",
       "      <td>2020-03-28 08:47:35</td>\n",
       "      <td>2020-03-28 09:38:40</td>\n",
       "      <td>2020-03-30 17:58:36</td>\n",
       "    </tr>\n",
       "    <tr>\n",
       "      <th>restaurant</th>\n",
       "      <td>/be/api/restaurants/181</td>\n",
       "      <td>NaN</td>\n",
       "      <td>/be/api/restaurants/181</td>\n",
       "      <td>NaN</td>\n",
       "      <td>/be/api/restaurants/244</td>\n",
       "    </tr>\n",
       "    <tr>\n",
       "      <th>status</th>\n",
       "      <td>-1</td>\n",
       "      <td>-1</td>\n",
       "      <td>-1</td>\n",
       "      <td>-1</td>\n",
       "      <td>-1</td>\n",
       "    </tr>\n",
       "    <tr>\n",
       "      <th>total_cost</th>\n",
       "      <td>21.5</td>\n",
       "      <td>0</td>\n",
       "      <td>20.5</td>\n",
       "      <td>0</td>\n",
       "      <td>25.1</td>\n",
       "    </tr>\n",
       "    <tr>\n",
       "      <th>rest</th>\n",
       "      <td>&amp;{Long:27.577507 Lat:53.930103}</td>\n",
       "      <td>NaN</td>\n",
       "      <td>&amp;{Long:27.577507 Lat:53.930103}</td>\n",
       "      <td>NaN</td>\n",
       "      <td>&amp;{Long:27.652157 Lat:53.933624}</td>\n",
       "    </tr>\n",
       "    <tr>\n",
       "      <th>dest</th>\n",
       "      <td>&amp;{Long:27.599731 Lat:53.925205}</td>\n",
       "      <td>NaN</td>\n",
       "      <td>&amp;{Long:27.599731 Lat:53.925205}</td>\n",
       "      <td>NaN</td>\n",
       "      <td>&amp;{Long:27.599731 Lat:53.925205}</td>\n",
       "    </tr>\n",
       "    <tr>\n",
       "      <th>courier</th>\n",
       "      <td>NaN</td>\n",
       "      <td>NaN</td>\n",
       "      <td>NaN</td>\n",
       "      <td>NaN</td>\n",
       "      <td>NaN</td>\n",
       "    </tr>\n",
       "  </tbody>\n",
       "</table>\n",
       "</div>"
      ],
      "text/plain": [
       "                                          0                    1  \\\n",
       "date                    2020-03-27 12:52:08  2020-03-27 14:36:29   \n",
       "restaurant          /be/api/restaurants/181                  NaN   \n",
       "status                                   -1                   -1   \n",
       "total_cost                             21.5                    0   \n",
       "rest        &{Long:27.577507 Lat:53.930103}                  NaN   \n",
       "dest        &{Long:27.599731 Lat:53.925205}                  NaN   \n",
       "courier                                 NaN                  NaN   \n",
       "\n",
       "                                          2                    3  \\\n",
       "date                    2020-03-28 08:47:35  2020-03-28 09:38:40   \n",
       "restaurant          /be/api/restaurants/181                  NaN   \n",
       "status                                   -1                   -1   \n",
       "total_cost                             20.5                    0   \n",
       "rest        &{Long:27.577507 Lat:53.930103}                  NaN   \n",
       "dest        &{Long:27.599731 Lat:53.925205}                  NaN   \n",
       "courier                                 NaN                  NaN   \n",
       "\n",
       "                                          4  \n",
       "date                    2020-03-30 17:58:36  \n",
       "restaurant          /be/api/restaurants/244  \n",
       "status                                   -1  \n",
       "total_cost                             25.1  \n",
       "rest        &{Long:27.652157 Lat:53.933624}  \n",
       "dest        &{Long:27.599731 Lat:53.925205}  \n",
       "courier                                 NaN  "
      ]
     },
     "execution_count": 4,
     "metadata": {},
     "output_type": "execute_result"
    }
   ],
   "source": [
    "dataset.head().T"
   ]
  },
  {
   "cell_type": "code",
   "execution_count": 5,
   "metadata": {},
   "outputs": [
    {
     "data": {
      "text/plain": [
       "date           object\n",
       "restaurant     object\n",
       "status          int64\n",
       "total_cost    float64\n",
       "rest           object\n",
       "dest           object\n",
       "courier       float64\n",
       "dtype: object"
      ]
     },
     "execution_count": 5,
     "metadata": {},
     "output_type": "execute_result"
    }
   ],
   "source": [
    "dataset.dtypes"
   ]
  },
  {
   "cell_type": "code",
   "execution_count": 6,
   "metadata": {},
   "outputs": [
    {
     "data": {
      "text/html": [
       "<div>\n",
       "<style scoped>\n",
       "    .dataframe tbody tr th:only-of-type {\n",
       "        vertical-align: middle;\n",
       "    }\n",
       "\n",
       "    .dataframe tbody tr th {\n",
       "        vertical-align: top;\n",
       "    }\n",
       "\n",
       "    .dataframe thead th {\n",
       "        text-align: right;\n",
       "    }\n",
       "</style>\n",
       "<table border=\"1\" class=\"dataframe\">\n",
       "  <thead>\n",
       "    <tr style=\"text-align: right;\">\n",
       "      <th></th>\n",
       "      <th>status</th>\n",
       "      <th>total_cost</th>\n",
       "      <th>courier</th>\n",
       "    </tr>\n",
       "  </thead>\n",
       "  <tbody>\n",
       "    <tr>\n",
       "      <th>count</th>\n",
       "      <td>502.0</td>\n",
       "      <td>502.000000</td>\n",
       "      <td>0.0</td>\n",
       "    </tr>\n",
       "    <tr>\n",
       "      <th>mean</th>\n",
       "      <td>-1.0</td>\n",
       "      <td>13.680558</td>\n",
       "      <td>NaN</td>\n",
       "    </tr>\n",
       "    <tr>\n",
       "      <th>std</th>\n",
       "      <td>0.0</td>\n",
       "      <td>14.573024</td>\n",
       "      <td>NaN</td>\n",
       "    </tr>\n",
       "    <tr>\n",
       "      <th>min</th>\n",
       "      <td>-1.0</td>\n",
       "      <td>0.000000</td>\n",
       "      <td>NaN</td>\n",
       "    </tr>\n",
       "    <tr>\n",
       "      <th>25%</th>\n",
       "      <td>-1.0</td>\n",
       "      <td>0.000000</td>\n",
       "      <td>NaN</td>\n",
       "    </tr>\n",
       "    <tr>\n",
       "      <th>50%</th>\n",
       "      <td>-1.0</td>\n",
       "      <td>9.000000</td>\n",
       "      <td>NaN</td>\n",
       "    </tr>\n",
       "    <tr>\n",
       "      <th>75%</th>\n",
       "      <td>-1.0</td>\n",
       "      <td>25.975000</td>\n",
       "      <td>NaN</td>\n",
       "    </tr>\n",
       "    <tr>\n",
       "      <th>max</th>\n",
       "      <td>-1.0</td>\n",
       "      <td>67.400002</td>\n",
       "      <td>NaN</td>\n",
       "    </tr>\n",
       "  </tbody>\n",
       "</table>\n",
       "</div>"
      ],
      "text/plain": [
       "       status  total_cost  courier\n",
       "count   502.0  502.000000      0.0\n",
       "mean     -1.0   13.680558      NaN\n",
       "std       0.0   14.573024      NaN\n",
       "min      -1.0    0.000000      NaN\n",
       "25%      -1.0    0.000000      NaN\n",
       "50%      -1.0    9.000000      NaN\n",
       "75%      -1.0   25.975000      NaN\n",
       "max      -1.0   67.400002      NaN"
      ]
     },
     "execution_count": 6,
     "metadata": {},
     "output_type": "execute_result"
    }
   ],
   "source": [
    "dataset.describe()"
   ]
  },
  {
   "cell_type": "markdown",
   "metadata": {},
   "source": [
    "# Prepare data"
   ]
  },
  {
   "cell_type": "markdown",
   "metadata": {},
   "source": [
    "## List categorical columns"
   ]
  },
  {
   "cell_type": "code",
   "execution_count": 7,
   "metadata": {},
   "outputs": [],
   "source": [
    "categorical_columns = ['restaurant']"
   ]
  },
  {
   "cell_type": "code",
   "execution_count": 8,
   "metadata": {},
   "outputs": [],
   "source": [
    "def split_column(df: pd.DataFrame, name: str):\n",
    "    df[name+'_long'] = df[name].str.extract(\"&{Long:(\\d+\\.\\d+)\", expand=False).astype('float64')\n",
    "    df[name+'_lat'] = df[name].str.extract(\"Lat:(\\d+\\.\\d+)}\", expand=False).astype('float64')\n",
    "    return df.drop([name], axis=1)"
   ]
  },
  {
   "cell_type": "code",
   "execution_count": 9,
   "metadata": {},
   "outputs": [],
   "source": [
    "def replace_coordinates(df: pd.DataFrame):\n",
    "    df = split_column(df, \"rest\")\n",
    "    df = split_column(df, \"dest\")\n",
    "    #df = split_column(df, \"courier\")\n",
    "    return df"
   ]
  },
  {
   "cell_type": "code",
   "execution_count": 10,
   "metadata": {},
   "outputs": [],
   "source": [
    "dataset = replace_coordinates(dataset)"
   ]
  },
  {
   "cell_type": "markdown",
   "metadata": {},
   "source": [
    "## Geodata"
   ]
  },
  {
   "cell_type": "code",
   "execution_count": 11,
   "metadata": {},
   "outputs": [],
   "source": [
    "def plot_geodata(dataset: pd.DataFrame): \n",
    "    gdf = geopandas.GeoDataFrame(dataset.copy(), \n",
    "                                 geometry=geopandas.points_from_xy(dataset.rest_long, dataset.rest_lat))\n",
    "    world = geopandas.read_file(geopandas.datasets.get_path('naturalearth_lowres'))\n",
    "    ax = world[world.continent == 'Europe'].plot(color='white', edgecolor='black')\n",
    "\n",
    "    gdf.plot(ax=ax, color='red',  figsize=(256, 256))\n",
    "\n",
    "    plt.show()"
   ]
  },
  {
   "cell_type": "code",
   "execution_count": 12,
   "metadata": {},
   "outputs": [
    {
     "data": {
      "image/png": "[encoded data removed]",
      "text/plain": [
       "<Figure size 432x288 with 1 Axes>"
      ]
     },
     "metadata": {
      "needs_background": "light"
     },
     "output_type": "display_data"
    }
   ],
   "source": [
    "plot_geodata(dataset)"
   ]
  },
  {
   "cell_type": "markdown",
   "metadata": {},
   "source": [
    "##  Handle N/A values"
   ]
  },
  {
   "cell_type": "code",
   "execution_count": 13,
   "metadata": {},
   "outputs": [
    {
     "data": {
      "text/plain": [
       "date            0\n",
       "restaurant    251\n",
       "status          0\n",
       "total_cost      0\n",
       "courier       502\n",
       "rest_long     251\n",
       "rest_lat      251\n",
       "dest_long     251\n",
       "dest_lat      251\n",
       "dtype: int64"
      ]
     },
     "execution_count": 13,
     "metadata": {},
     "output_type": "execute_result"
    }
   ],
   "source": [
    "dataset.isna().sum()"
   ]
  },
  {
   "cell_type": "markdown",
   "metadata": {},
   "source": [
    "### Replace other NaN with explicit 'n/a' value"
   ]
  },
  {
   "cell_type": "code",
   "execution_count": 14,
   "metadata": {},
   "outputs": [],
   "source": [
    "def replace_na_value(dataset: pd.DataFrame):\n",
    "    for column in categorical_columns:\n",
    "        if column not in dataset.columns:\n",
    "            continue\n",
    "        \n",
    "        dataset[column] = dataset[column].fillna('n/a')"
   ]
  },
  {
   "cell_type": "code",
   "execution_count": 15,
   "metadata": {},
   "outputs": [],
   "source": [
    "replace_na_value(dataset)"
   ]
  },
  {
   "cell_type": "markdown",
   "metadata": {},
   "source": [
    "## Convert columns types\n",
    "Easier to work with later, handle as generic category"
   ]
  },
  {
   "cell_type": "code",
   "execution_count": 16,
   "metadata": {},
   "outputs": [],
   "source": [
    "def convert_column_type(dataset, column_name, result_type):\n",
    "    dataset[column_name] = dataset[column_name].astype(result_type)"
   ]
  },
  {
   "cell_type": "code",
   "execution_count": 17,
   "metadata": {},
   "outputs": [],
   "source": [
    "convert_column_type(dataset, 'date', 'datetime64')\n",
    "convert_column_type(dataset, 'restaurant', str)\n",
    "convert_column_type(dataset, 'status', str)"
   ]
  },
  {
   "cell_type": "markdown",
   "metadata": {},
   "source": [
    "## State machine - convert events to orders"
   ]
  },
  {
   "cell_type": "code",
   "execution_count": 18,
   "metadata": {},
   "outputs": [],
   "source": [
    "def haversine(lat1, lon1, lat2, lon2, to_radians=True, earth_radius=6371):\n",
    "    \"\"\"\n",
    "    slightly modified version: of http://stackoverflow.com/a/29546836/2901002\n",
    "\n",
    "    Calculate the great circle distance between two points\n",
    "    on the earth (specified in decimal degrees or in radians)\n",
    "\n",
    "    All (lat, lon) coordinates must have numeric dtypes and be of equal length.\n",
    "\n",
    "    \"\"\"\n",
    "    if to_radians:\n",
    "        lat1, lon1, lat2, lon2 = np.radians([lat1, lon1, lat2, lon2])\n",
    "\n",
    "    a = np.sin((lat2-lat1)/2.0)**2 + \\\n",
    "        np.cos(lat1) * np.cos(lat2) * np.sin((lon2-lon1)/2.0)**2\n",
    "\n",
    "    return earth_radius * 2 * np.arcsin(np.sqrt(a)) * 1000"
   ]
  },
  {
   "cell_type": "code",
   "execution_count": 19,
   "metadata": {},
   "outputs": [],
   "source": [
    "data = []\n",
    "\n",
    "start_date = None\n",
    "curr_restaurant = None\n",
    "curr_total_cost = None\n",
    "curr_distance = None\n",
    "\n",
    "rest_lat = None\n",
    "rest_long = None\n",
    "dest_lat = None\n",
    "dest_long = None\n",
    "\n",
    "for index, row in dataset.iterrows():\n",
    "    restaurant = str(row['restaurant'])\n",
    "    if 'n/a' in restaurant:\n",
    "        if curr_restaurant is not None:\n",
    "            distance = haversine(rest_lat, rest_long, dest_lat, dest_long)\n",
    "            total_time_sec = (row['date']-start_date).total_seconds()\n",
    "            data.append([start_date, curr_restaurant, curr_total_cost, distance, total_time_sec])\n",
    "            \n",
    "            curr_restaurant = None\n",
    "    else:\n",
    "        if curr_restaurant is None:\n",
    "            curr_restaurant = restaurant\n",
    "            start_date = row['date']\n",
    "            curr_total_cost = row['total_cost']\n",
    "            \n",
    "            rest_lat = row['rest_lat']\n",
    "            rest_long = row['rest_long']\n",
    "            dest_lat = row['dest_lat']\n",
    "            dest_long = row['dest_long']\n",
    "        \n",
    "\n",
    "df = pd.DataFrame(data, columns=['date', 'restaurant', 'total_cost', 'distance_meters', 'total_time_sec'])"
   ]
  },
  {
   "cell_type": "code",
   "execution_count": 20,
   "metadata": {},
   "outputs": [
    {
     "data": {
      "text/plain": [
       "date               datetime64[ns]\n",
       "restaurant                 object\n",
       "total_cost                float64\n",
       "distance_meters           float64\n",
       "total_time_sec            float64\n",
       "dtype: object"
      ]
     },
     "execution_count": 20,
     "metadata": {},
     "output_type": "execute_result"
    }
   ],
   "source": [
    "df.dtypes"
   ]
  },
  {
   "cell_type": "code",
   "execution_count": 21,
   "metadata": {},
   "outputs": [
    {
     "data": {
      "text/html": [
       "<div>\n",
       "<style scoped>\n",
       "    .dataframe tbody tr th:only-of-type {\n",
       "        vertical-align: middle;\n",
       "    }\n",
       "\n",
       "    .dataframe tbody tr th {\n",
       "        vertical-align: top;\n",
       "    }\n",
       "\n",
       "    .dataframe thead th {\n",
       "        text-align: right;\n",
       "    }\n",
       "</style>\n",
       "<table border=\"1\" class=\"dataframe\">\n",
       "  <thead>\n",
       "    <tr style=\"text-align: right;\">\n",
       "      <th></th>\n",
       "      <th>0</th>\n",
       "      <th>1</th>\n",
       "      <th>2</th>\n",
       "      <th>3</th>\n",
       "      <th>4</th>\n",
       "    </tr>\n",
       "  </thead>\n",
       "  <tbody>\n",
       "    <tr>\n",
       "      <th>date</th>\n",
       "      <td>2020-03-27 12:52:08</td>\n",
       "      <td>2020-03-28 08:47:35</td>\n",
       "      <td>2020-03-30 17:58:36</td>\n",
       "      <td>2020-04-02 12:19:02</td>\n",
       "      <td>2020-04-03 08:31:33</td>\n",
       "    </tr>\n",
       "    <tr>\n",
       "      <th>restaurant</th>\n",
       "      <td>/be/api/restaurants/181</td>\n",
       "      <td>/be/api/restaurants/181</td>\n",
       "      <td>/be/api/restaurants/244</td>\n",
       "      <td>/be/api/restaurants/181</td>\n",
       "      <td>/be/api/restaurants/181</td>\n",
       "    </tr>\n",
       "    <tr>\n",
       "      <th>total_cost</th>\n",
       "      <td>21.5</td>\n",
       "      <td>20.5</td>\n",
       "      <td>25.1</td>\n",
       "      <td>22.3</td>\n",
       "      <td>20.2</td>\n",
       "    </tr>\n",
       "    <tr>\n",
       "      <th>distance_meters</th>\n",
       "      <td>1553.64</td>\n",
       "      <td>1553.64</td>\n",
       "      <td>3557.68</td>\n",
       "      <td>1553.64</td>\n",
       "      <td>1553.64</td>\n",
       "    </tr>\n",
       "    <tr>\n",
       "      <th>total_time_sec</th>\n",
       "      <td>6261</td>\n",
       "      <td>3065</td>\n",
       "      <td>3453</td>\n",
       "      <td>2028</td>\n",
       "      <td>3359</td>\n",
       "    </tr>\n",
       "  </tbody>\n",
       "</table>\n",
       "</div>"
      ],
      "text/plain": [
       "                                       0                        1  \\\n",
       "date                 2020-03-27 12:52:08      2020-03-28 08:47:35   \n",
       "restaurant       /be/api/restaurants/181  /be/api/restaurants/181   \n",
       "total_cost                          21.5                     20.5   \n",
       "distance_meters                  1553.64                  1553.64   \n",
       "total_time_sec                      6261                     3065   \n",
       "\n",
       "                                       2                        3  \\\n",
       "date                 2020-03-30 17:58:36      2020-04-02 12:19:02   \n",
       "restaurant       /be/api/restaurants/244  /be/api/restaurants/181   \n",
       "total_cost                          25.1                     22.3   \n",
       "distance_meters                  3557.68                  1553.64   \n",
       "total_time_sec                      3453                     2028   \n",
       "\n",
       "                                       4  \n",
       "date                 2020-04-03 08:31:33  \n",
       "restaurant       /be/api/restaurants/181  \n",
       "total_cost                          20.2  \n",
       "distance_meters                  1553.64  \n",
       "total_time_sec                      3359  "
      ]
     },
     "execution_count": 21,
     "metadata": {},
     "output_type": "execute_result"
    }
   ],
   "source": [
    "df.head().T"
   ]
  },
  {
   "cell_type": "markdown",
   "metadata": {},
   "source": [
    "# TODO: extract month, day, weekday, day time; probably better then pure date"
   ]
  },
  {
   "cell_type": "markdown",
   "metadata": {},
   "source": [
    "# ===========\n",
    "# Work with processed data"
   ]
  },
  {
   "cell_type": "markdown",
   "metadata": {},
   "source": [
    "## Encode categorical columns"
   ]
  },
  {
   "cell_type": "code",
   "execution_count": 22,
   "metadata": {},
   "outputs": [],
   "source": [
    "def encode_categorical_columns(dataset: pd.DataFrame) -> Dict[str, LabelEncoder]:\n",
    "    encoders = {} \n",
    "    for column in categorical_columns:\n",
    "        if column not in dataset.columns:\n",
    "            continue\n",
    "            \n",
    "        le = LabelEncoder()\n",
    "        le.fit(dataset[column])\n",
    "\n",
    "        dataset[column] = le.transform(dataset[column])\n",
    "        encoders[column]= le\n",
    "        \n",
    "    return encoders"
   ]
  },
  {
   "cell_type": "code",
   "execution_count": 23,
   "metadata": {},
   "outputs": [],
   "source": [
    "encoders = encode_categorical_columns(df)"
   ]
  },
  {
   "cell_type": "markdown",
   "metadata": {},
   "source": [
    "## Handle date columns\n",
    "Convert to epoch time"
   ]
  },
  {
   "cell_type": "code",
   "execution_count": 24,
   "metadata": {},
   "outputs": [],
   "source": [
    "date_columns = ['date']"
   ]
  },
  {
   "cell_type": "code",
   "execution_count": 25,
   "metadata": {},
   "outputs": [],
   "source": [
    "def convert_date_columns_to_epoch(dataset: pd.DataFrame, timestamp_format=\"%Y-%m-%d %H:%M:%S\"):\n",
    "    for column in date_columns:\n",
    "        dataset[column] = (dataset[column] - pd.Timestamp(\"1970-01-01\")) // pd.Timedelta('1s')"
   ]
  },
  {
   "cell_type": "code",
   "execution_count": 26,
   "metadata": {},
   "outputs": [],
   "source": [
    "convert_date_columns_to_epoch(df)"
   ]
  },
  {
   "cell_type": "markdown",
   "metadata": {},
   "source": [
    "## Scale/normalize all columns"
   ]
  },
  {
   "cell_type": "code",
   "execution_count": 27,
   "metadata": {},
   "outputs": [],
   "source": [
    "def scale_columns(dataset: pd.DataFrame):\n",
    "    scaler = StandardScaler()\n",
    "    dataset = scaler.fit_transform(dataset)\n",
    "    #dataset[values.columns] = scaler.fit_transform(dataset[dataset.columns])"
   ]
  },
  {
   "cell_type": "code",
   "execution_count": 28,
   "metadata": {},
   "outputs": [],
   "source": [
    "scale_columns(df)"
   ]
  },
  {
   "cell_type": "code",
   "execution_count": 29,
   "metadata": {},
   "outputs": [
    {
     "data": {
      "text/html": [
       "<div>\n",
       "<style scoped>\n",
       "    .dataframe tbody tr th:only-of-type {\n",
       "        vertical-align: middle;\n",
       "    }\n",
       "\n",
       "    .dataframe tbody tr th {\n",
       "        vertical-align: top;\n",
       "    }\n",
       "\n",
       "    .dataframe thead th {\n",
       "        text-align: right;\n",
       "    }\n",
       "</style>\n",
       "<table border=\"1\" class=\"dataframe\">\n",
       "  <thead>\n",
       "    <tr style=\"text-align: right;\">\n",
       "      <th></th>\n",
       "      <th>0</th>\n",
       "      <th>1</th>\n",
       "      <th>2</th>\n",
       "      <th>3</th>\n",
       "      <th>4</th>\n",
       "    </tr>\n",
       "  </thead>\n",
       "  <tbody>\n",
       "    <tr>\n",
       "      <th>date</th>\n",
       "      <td>1.585314e+09</td>\n",
       "      <td>1.585385e+09</td>\n",
       "      <td>1.585591e+09</td>\n",
       "      <td>1.585830e+09</td>\n",
       "      <td>1.585903e+09</td>\n",
       "    </tr>\n",
       "    <tr>\n",
       "      <th>restaurant</th>\n",
       "      <td>2.000000e+00</td>\n",
       "      <td>2.000000e+00</td>\n",
       "      <td>6.000000e+00</td>\n",
       "      <td>2.000000e+00</td>\n",
       "      <td>2.000000e+00</td>\n",
       "    </tr>\n",
       "    <tr>\n",
       "      <th>total_cost</th>\n",
       "      <td>2.150000e+01</td>\n",
       "      <td>2.050000e+01</td>\n",
       "      <td>2.510000e+01</td>\n",
       "      <td>2.230000e+01</td>\n",
       "      <td>2.020000e+01</td>\n",
       "    </tr>\n",
       "    <tr>\n",
       "      <th>distance_meters</th>\n",
       "      <td>1.553645e+03</td>\n",
       "      <td>1.553645e+03</td>\n",
       "      <td>3.557681e+03</td>\n",
       "      <td>1.553645e+03</td>\n",
       "      <td>1.553645e+03</td>\n",
       "    </tr>\n",
       "    <tr>\n",
       "      <th>total_time_sec</th>\n",
       "      <td>6.261000e+03</td>\n",
       "      <td>3.065000e+03</td>\n",
       "      <td>3.453000e+03</td>\n",
       "      <td>2.028000e+03</td>\n",
       "      <td>3.359000e+03</td>\n",
       "    </tr>\n",
       "  </tbody>\n",
       "</table>\n",
       "</div>"
      ],
      "text/plain": [
       "                            0             1             2             3  \\\n",
       "date             1.585314e+09  1.585385e+09  1.585591e+09  1.585830e+09   \n",
       "restaurant       2.000000e+00  2.000000e+00  6.000000e+00  2.000000e+00   \n",
       "total_cost       2.150000e+01  2.050000e+01  2.510000e+01  2.230000e+01   \n",
       "distance_meters  1.553645e+03  1.553645e+03  3.557681e+03  1.553645e+03   \n",
       "total_time_sec   6.261000e+03  3.065000e+03  3.453000e+03  2.028000e+03   \n",
       "\n",
       "                            4  \n",
       "date             1.585903e+09  \n",
       "restaurant       2.000000e+00  \n",
       "total_cost       2.020000e+01  \n",
       "distance_meters  1.553645e+03  \n",
       "total_time_sec   3.359000e+03  "
      ]
     },
     "execution_count": 29,
     "metadata": {},
     "output_type": "execute_result"
    }
   ],
   "source": [
    "df.head().T"
   ]
  },
  {
   "cell_type": "code",
   "execution_count": 30,
   "metadata": {},
   "outputs": [
    {
     "data": {
      "text/plain": [
       "date                 int64\n",
       "restaurant           int64\n",
       "total_cost         float64\n",
       "distance_meters    float64\n",
       "total_time_sec     float64\n",
       "dtype: object"
      ]
     },
     "execution_count": 30,
     "metadata": {},
     "output_type": "execute_result"
    }
   ],
   "source": [
    "df.dtypes"
   ]
  },
  {
   "cell_type": "code",
   "execution_count": 31,
   "metadata": {},
   "outputs": [],
   "source": [
    "def prepare_dataset(dataset: pd.DataFrame) -> pd.DataFrame:\n",
    "    encode_categorical_columns(dataset)\n",
    "    convert_date_columns_to_epoch(dataset)\n",
    "\n",
    "    scale_columns(dataset)\n",
    "    \n",
    "    return dataset"
   ]
  },
  {
   "cell_type": "markdown",
   "metadata": {},
   "source": [
    "# ======="
   ]
  },
  {
   "cell_type": "markdown",
   "metadata": {},
   "source": [
    "# Split dataset"
   ]
  },
  {
   "cell_type": "code",
   "execution_count": 32,
   "metadata": {},
   "outputs": [],
   "source": [
    "def split_dataset(dataset: pd.DataFrame): \n",
    "    X = dataset.iloc[:, :-1]\n",
    "    y = dataset.iloc[:, -1]\n",
    "\n",
    "    return train_test_split(X, y, test_size=0.2, random_state = 0)"
   ]
  },
  {
   "cell_type": "code",
   "execution_count": 33,
   "metadata": {},
   "outputs": [],
   "source": [
    "X_train, X_test, y_train, y_test = split_dataset(df)"
   ]
  },
  {
   "cell_type": "markdown",
   "metadata": {},
   "source": [
    "# Train models"
   ]
  },
  {
   "cell_type": "code",
   "execution_count": 34,
   "metadata": {},
   "outputs": [],
   "source": [
    "models_result = {}"
   ]
  },
  {
   "cell_type": "code",
   "execution_count": 35,
   "metadata": {},
   "outputs": [],
   "source": [
    "def update_result_print(models_result, model_name, regr, X_test, y_test):\n",
    "    from sklearn.metrics import r2_score\n",
    "    \n",
    "    y_pred = regr.predict(X_test)\n",
    "    y_test = y_test.values.tolist()\n",
    "    \n",
    "    print(\"y_pred:\")\n",
    "    print(y_pred)\n",
    "    print(\"y_test:\")\n",
    "    print(y_test)\n",
    "\n",
    "    accuracy = r2_score(y_test, y_pred)\n",
    "\n",
    "    models_result[model_name] = accuracy\n",
    "    print(f'\"{model_name}\" has r2_score: {accuracy}') "
   ]
  },
  {
   "cell_type": "code",
   "execution_count": 36,
   "metadata": {},
   "outputs": [],
   "source": [
    "def plot_features_importances(regressor, X_train):\n",
    "    series = pd.Series(regressor.feature_importances_, index=X_train.columns).sort_values(ascending=True)\n",
    "    series = series.plot(kind='barh', figsize=(10,10))\n",
    "    plt.xlabel('Feature importance')\n",
    "    plt.ylabel('Features')\n",
    "    plt.show()"
   ]
  },
  {
   "cell_type": "markdown",
   "metadata": {},
   "source": [
    "## Random forest"
   ]
  },
  {
   "cell_type": "code",
   "execution_count": 37,
   "metadata": {},
   "outputs": [],
   "source": [
    "def random_forest(X_train, y_train):\n",
    "    from sklearn.ensemble import RandomForestRegressor\n",
    "    regr = RandomForestRegressor(max_depth=25, n_estimators = 42*5, random_state = 0)\n",
    "\n",
    "    regr.fit(X_train, y_train)\n",
    "    \n",
    "    return regr"
   ]
  },
  {
   "cell_type": "code",
   "execution_count": 38,
   "metadata": {},
   "outputs": [
    {
     "name": "stdout",
     "output_type": "stream",
     "text": [
      "y_pred:\n",
      "[ 6822.80952381  3854.96190476  3039.71428571  3955.81904762\n",
      "  4365.21428571  5056.2         4018.82440476  4665.54761905\n",
      "  5384.40952381  4996.47142857  4265.5047619   4397.63333333\n",
      "  5039.44285714  3714.97619048  3442.74285714  2685.31428571\n",
      "  4414.38571429  4066.59047619  4103.          3410.75238095\n",
      "  3987.35714286  4516.8047619   3668.66190476  4555.56190476\n",
      "  4033.10952381  2778.4047619   3804.49047619  4997.32380952\n",
      "  4249.63809524 23989.60952381  4871.9         3616.\n",
      "  3348.25714286  3666.79047619  5412.85714286  5150.31428571\n",
      "  4393.31428571  3926.2047619   3428.17619048  5458.32380952\n",
      "  3530.35297619  3347.22857143  3089.62380952  3709.61904762\n",
      "  3827.35714286  2869.58571429  4263.62857143  4166.85714286\n",
      "  3853.04285714  4097.50952381  6341.48571429]\n",
      "y_test:\n",
      "[6024.0, 2366.0, 6392.0, 6118.0, 6003.0, 3329.0, 2475.0, 7667.0, 4817.0, 3882.0, 2681.0, 4520.0, 2809.0, 2058.0, 2604.0, 1553.0, 1753.0, 4131.0, 6369.0, 3255.0, 3666.0, 2139.0, 3333.0, 3304.0, 4125.0, 3094.0, 1697.0, 2989.0, 6228.0, 2612.0, 2416.0, 7733.0, 2868.0, 6280.0, 4562.0, 6794.0, 4480.0, 4664.0, 3663.0, 3157.0, 4643.0, 1495.0, 4336.0, 3077.0, 3853.0, 2280.0, 2977.0, 2315.0, 6921.0, 5380.0, 3954.0]\n",
      "\"Random forest\" has r2_score: -3.3286256953565694\n"
     ]
    },
    {
     "data": {
      "image/png": "[encoded data removed]",
      "text/plain": [
       "<Figure size 720x720 with 1 Axes>"
      ]
     },
     "metadata": {
      "needs_background": "light"
     },
     "output_type": "display_data"
    }
   ],
   "source": [
    "rf_rgr = random_forest(X_train, y_train)\n",
    "update_result_print(models_result, 'Random forest', rf_rgr, X_test, y_test)\n",
    "plot_features_importances(rf_rgr, X_train)"
   ]
  },
  {
   "cell_type": "markdown",
   "metadata": {},
   "source": [
    "## K-Nearest Neighbors"
   ]
  },
  {
   "cell_type": "code",
   "execution_count": 39,
   "metadata": {},
   "outputs": [],
   "source": [
    "def k_nearest(X_train, y_train):\n",
    "    from sklearn.neighbors import KNeighborsRegressor\n",
    "    regr = KNeighborsRegressor(n_neighbors=3)\n",
    "    \n",
    "    regr.fit(X_train, y_train)\n",
    "    \n",
    "    return regr"
   ]
  },
  {
   "cell_type": "code",
   "execution_count": 40,
   "metadata": {},
   "outputs": [
    {
     "name": "stdout",
     "output_type": "stream",
     "text": [
      "y_pred:\n",
      "[5330.66666667 6998.66666667 3048.         3579.         6067.\n",
      " 4107.         5330.66666667 2643.         3161.66666667 6556.33333333\n",
      " 4207.         3290.33333333 4315.66666667 4521.         5250.33333333\n",
      " 4924.66666667 3371.         2750.66666667 3299.66666667 3158.\n",
      " 3579.         4111.33333333 3021.         4086.33333333 3204.33333333\n",
      " 2707.66666667 3759.         6047.66666667 5670.66666667 3021.66666667\n",
      " 3070.         4884.66666667 4086.33333333 3023.         4653.66666667\n",
      " 4625.66666667 3951.         3439.66666667 1943.33333333 3913.\n",
      " 3681.66666667 3713.         4315.66666667 5986.33333333 2707.66666667\n",
      " 3158.         3204.33333333 3576.         4172.66666667 3884.33333333\n",
      " 3276.66666667]\n",
      "y_test:\n",
      "[6024.0, 2366.0, 6392.0, 6118.0, 6003.0, 3329.0, 2475.0, 7667.0, 4817.0, 3882.0, 2681.0, 4520.0, 2809.0, 2058.0, 2604.0, 1553.0, 1753.0, 4131.0, 6369.0, 3255.0, 3666.0, 2139.0, 3333.0, 3304.0, 4125.0, 3094.0, 1697.0, 2989.0, 6228.0, 2612.0, 2416.0, 7733.0, 2868.0, 6280.0, 4562.0, 6794.0, 4480.0, 4664.0, 3663.0, 3157.0, 4643.0, 1495.0, 4336.0, 3077.0, 3853.0, 2280.0, 2977.0, 2315.0, 6921.0, 5380.0, 3954.0]\n",
      "\"K-Nearest Neighbors\" has r2_score: -0.4732840419019384\n"
     ]
    }
   ],
   "source": [
    "k_nearest_regr = k_nearest(X_train, y_train)\n",
    "update_result_print(models_result, 'K-Nearest Neighbors', k_nearest_regr, X_test, y_test)\n",
    "#plot_features_importances(k_nearest_regr, X_train)"
   ]
  },
  {
   "cell_type": "markdown",
   "metadata": {},
   "source": [
    "## Linear regression"
   ]
  },
  {
   "cell_type": "code",
   "execution_count": 41,
   "metadata": {},
   "outputs": [],
   "source": [
    "def linear(X_train, y_train):\n",
    "    from sklearn.linear_model import LinearRegression\n",
    "    regr = LinearRegression()\n",
    "    \n",
    "    regr.fit(X_train, y_train)\n",
    "    \n",
    "    return regr"
   ]
  },
  {
   "cell_type": "code",
   "execution_count": 42,
   "metadata": {
    "scrolled": true
   },
   "outputs": [
    {
     "name": "stdout",
     "output_type": "stream",
     "text": [
      "y_pred:\n",
      "[5272.46894591 3998.0241963  3951.79751028 3921.83394596 4497.29123863\n",
      " 3770.95028003 4540.8719025  4770.26369972 4764.62497154 4280.30176037\n",
      " 3977.74603083 5084.7155702  4162.85188347 3917.70345266 5230.10015749\n",
      " 4249.37142301 4129.67403786 5157.94749693 3909.79292733 4647.62370979\n",
      " 5195.95715323 5302.17229303 4880.04103592 5085.97502961 3754.61018945\n",
      " 4204.48575684 5260.2725676  4202.21829872 4412.54281501 5314.70459579\n",
      " 4476.9930676  3987.34099821 3936.92227812 4074.89838726 3724.22305907\n",
      " 5027.12463641 4525.52048365 5373.68070737 4582.14996142 5080.21040383\n",
      " 3919.06164258 4957.59787791 4188.84683376 4092.44515862 4037.04866972\n",
      " 4244.97512725 5164.65527895 4913.92321675 4778.97655152 4765.19233098\n",
      " 4062.68897388]\n",
      "y_test:\n",
      "[6024.0, 2366.0, 6392.0, 6118.0, 6003.0, 3329.0, 2475.0, 7667.0, 4817.0, 3882.0, 2681.0, 4520.0, 2809.0, 2058.0, 2604.0, 1553.0, 1753.0, 4131.0, 6369.0, 3255.0, 3666.0, 2139.0, 3333.0, 3304.0, 4125.0, 3094.0, 1697.0, 2989.0, 6228.0, 2612.0, 2416.0, 7733.0, 2868.0, 6280.0, 4562.0, 6794.0, 4480.0, 4664.0, 3663.0, 3157.0, 4643.0, 1495.0, 4336.0, 3077.0, 3853.0, 2280.0, 2977.0, 2315.0, 6921.0, 5380.0, 3954.0]\n",
      "\"Linear\" has r2_score: -0.25959845996749586\n"
     ]
    }
   ],
   "source": [
    "linear_regr = linear(X_train, y_train)\n",
    "update_result_print(models_result, 'Linear', linear_regr, X_test, y_test)\n",
    "#plot_features_importances(linear_regr, X_train)"
   ]
  },
  {
   "cell_type": "markdown",
   "metadata": {},
   "source": [
    "## Ridge regression"
   ]
  },
  {
   "cell_type": "code",
   "execution_count": 43,
   "metadata": {},
   "outputs": [],
   "source": [
    "def ridge(X_train, y_train):\n",
    "    from sklearn.linear_model import Ridge\n",
    "    regr = Ridge(alpha=.5)\n",
    "    \n",
    "    regr.fit(X_train, y_train)\n",
    "    \n",
    "    return regr"
   ]
  },
  {
   "cell_type": "code",
   "execution_count": 44,
   "metadata": {},
   "outputs": [
    {
     "name": "stdout",
     "output_type": "stream",
     "text": [
      "y_pred:\n",
      "[5272.45896849 3998.0354017  3951.80907745 3921.84488487 4497.2933185\n",
      " 3770.96303689 4540.87332715 4770.26267235 4764.62446368 4280.3031624\n",
      " 3977.7572568  5084.7074871  4162.85986081 3917.71439708 5230.09269494\n",
      " 4249.37931802 4129.6820586  5157.94010635 3909.80387843 4647.62450079\n",
      " 5195.94972484 5302.1647589  4880.03603644 5085.96846682 3754.62296356\n",
      " 4204.49367118 5260.265515   4202.22621275 4412.54497926 5314.69704937\n",
      " 4476.99455362 3987.35187123 3936.93386038 4074.90643011 3724.23586202\n",
      " 5027.11812969 4525.52192327 5373.67310251 4582.15279916 5080.20384747\n",
      " 3919.07324182 4957.59573032 4188.85476366 4092.45318422 4037.05967359\n",
      " 4244.98302799 5164.64788169 4913.92111316 4778.97551473 4765.18960947\n",
      " 4062.69995264]\n",
      "y_test:\n",
      "[6024.0, 2366.0, 6392.0, 6118.0, 6003.0, 3329.0, 2475.0, 7667.0, 4817.0, 3882.0, 2681.0, 4520.0, 2809.0, 2058.0, 2604.0, 1553.0, 1753.0, 4131.0, 6369.0, 3255.0, 3666.0, 2139.0, 3333.0, 3304.0, 4125.0, 3094.0, 1697.0, 2989.0, 6228.0, 2612.0, 2416.0, 7733.0, 2868.0, 6280.0, 4562.0, 6794.0, 4480.0, 4664.0, 3663.0, 3157.0, 4643.0, 1495.0, 4336.0, 3077.0, 3853.0, 2280.0, 2977.0, 2315.0, 6921.0, 5380.0, 3954.0]\n",
      "\"Ridge\" has r2_score: -0.25959639418295155\n"
     ]
    }
   ],
   "source": [
    "ridge_regr = ridge(X_train, y_train)\n",
    "update_result_print(models_result, 'Ridge', ridge_regr, X_test, y_test)\n",
    "#plot_features_importances(ridge_regr, X_train)"
   ]
  },
  {
   "cell_type": "markdown",
   "metadata": {},
   "source": [
    "## Multi-layer perceptron\n",
    "TODO requires OneHotEncoder"
   ]
  },
  {
   "cell_type": "code",
   "execution_count": 45,
   "metadata": {},
   "outputs": [],
   "source": [
    "def mlp(X_train, y_train):\n",
    "    from sklearn.neural_network import MLPRegressor\n",
    "    regr = MLPRegressor(solver='adam', alpha=1e-5,\n",
    "                        hidden_layer_sizes=(X_train.columns.size, X_train.columns.size), \n",
    "                        max_iter=10, activation='relu',\n",
    "                        learning_rate_init=.1,\n",
    "                        random_state=0)\n",
    "    \n",
    "    regr.fit(X_train, y_train)\n",
    "    \n",
    "    return regr"
   ]
  },
  {
   "cell_type": "code",
   "execution_count": 46,
   "metadata": {},
   "outputs": [
    {
     "name": "stdout",
     "output_type": "stream",
     "text": [
      "y_pred:\n",
      "[1.84004992 1.84004992 1.84004992 1.84004992 1.84004992 1.84004992\n",
      " 1.84004992 1.84004992 1.84004992 1.84004992 1.84004992 1.84004992\n",
      " 1.84004992 1.84004992 1.84004992 1.84004992 1.84004992 1.84004992\n",
      " 1.84004992 1.84004992 1.84004992 1.84004992 1.84004992 1.84004992\n",
      " 1.84004992 1.84004992 1.84004992 1.84004992 1.84004992 1.84004992\n",
      " 1.84004992 1.84004992 1.84004992 1.84004992 1.84004992 1.84004992\n",
      " 1.84004992 1.84004992 1.84004992 1.84004992 1.84004992 1.84004992\n",
      " 1.84004992 1.84004992 1.84004992 1.84004992 1.84004992 1.84004992\n",
      " 1.84004992 1.84004992 1.84004992]\n",
      "y_test:\n",
      "[6024.0, 2366.0, 6392.0, 6118.0, 6003.0, 3329.0, 2475.0, 7667.0, 4817.0, 3882.0, 2681.0, 4520.0, 2809.0, 2058.0, 2604.0, 1553.0, 1753.0, 4131.0, 6369.0, 3255.0, 3666.0, 2139.0, 3333.0, 3304.0, 4125.0, 3094.0, 1697.0, 2989.0, 6228.0, 2612.0, 2416.0, 7733.0, 2868.0, 6280.0, 4562.0, 6794.0, 4480.0, 4664.0, 3663.0, 3157.0, 4643.0, 1495.0, 4336.0, 3077.0, 3853.0, 2280.0, 2977.0, 2315.0, 6921.0, 5380.0, 3954.0]\n",
      "\"Multi-layer perceptron\" has r2_score: -5.691370274540527\n"
     ]
    },
    {
     "name": "stderr",
     "output_type": "stream",
     "text": [
      "/usr/local/Caskroom/miniconda/base/lib/python3.7/site-packages/sklearn/neural_network/_multilayer_perceptron.py:585: ConvergenceWarning: Stochastic Optimizer: Maximum iterations (10) reached and the optimization hasn't converged yet.\n",
      "  % self.max_iter, ConvergenceWarning)\n"
     ]
    }
   ],
   "source": [
    "mlp_regr = mlp(X_train, y_train)\n",
    "update_result_print(models_result, 'Multi-layer perceptron', mlp_regr, X_test, y_test)\n",
    "#plot_features_importances(mlp_regr, X_train)"
   ]
  },
  {
   "cell_type": "markdown",
   "metadata": {},
   "source": [
    "## Support Vector Machine"
   ]
  },
  {
   "cell_type": "code",
   "execution_count": 47,
   "metadata": {},
   "outputs": [],
   "source": [
    "def svm(X_train, y_train):\n",
    "    from sklearn.svm import LinearSVR \n",
    "    regr = LinearSVR()\n",
    "    \n",
    "    regr.fit(X_train, y_train)\n",
    "    \n",
    "    return regr"
   ]
  },
  {
   "cell_type": "code",
   "execution_count": 48,
   "metadata": {},
   "outputs": [
    {
     "name": "stdout",
     "output_type": "stream",
     "text": [
      "y_pred:\n",
      "[0. 0. 0. 0. 0. 0. 0. 0. 0. 0. 0. 0. 0. 0. 0. 0. 0. 0. 0. 0. 0. 0. 0. 0.\n",
      " 0. 0. 0. 0. 0. 0. 0. 0. 0. 0. 0. 0. 0. 0. 0. 0. 0. 0. 0. 0. 0. 0. 0. 0.\n",
      " 0. 0. 0.]\n",
      "y_test:\n",
      "[6024.0, 2366.0, 6392.0, 6118.0, 6003.0, 3329.0, 2475.0, 7667.0, 4817.0, 3882.0, 2681.0, 4520.0, 2809.0, 2058.0, 2604.0, 1553.0, 1753.0, 4131.0, 6369.0, 3255.0, 3666.0, 2139.0, 3333.0, 3304.0, 4125.0, 3094.0, 1697.0, 2989.0, 6228.0, 2612.0, 2416.0, 7733.0, 2868.0, 6280.0, 4562.0, 6794.0, 4480.0, 4664.0, 3663.0, 3157.0, 4643.0, 1495.0, 4336.0, 3077.0, 3853.0, 2280.0, 2977.0, 2315.0, 6921.0, 5380.0, 3954.0]\n",
      "\"Support Vector Machine\" has r2_score: -5.696666179579146\n"
     ]
    },
    {
     "name": "stderr",
     "output_type": "stream",
     "text": [
      "/usr/local/Caskroom/miniconda/base/lib/python3.7/site-packages/sklearn/svm/_base.py:977: ConvergenceWarning: Liblinear failed to converge, increase the number of iterations.\n",
      "  \"the number of iterations.\", ConvergenceWarning)\n"
     ]
    }
   ],
   "source": [
    "svm_regr = svm(X_train, y_train)\n",
    "update_result_print(models_result, 'Support Vector Machine', svm_regr, X_test, y_test)\n",
    "#plot_features_importances(svm_regr, X_train)"
   ]
  },
  {
   "cell_type": "markdown",
   "metadata": {},
   "source": [
    "# Results"
   ]
  },
  {
   "cell_type": "code",
   "execution_count": 49,
   "metadata": {},
   "outputs": [
    {
     "name": "stdout",
     "output_type": "stream",
     "text": [
      "Ridge                     -0.25959639418295155\n",
      "Linear                    -0.25959845996749586\n",
      "K-Nearest Neighbors       -0.4732840419019384\n",
      "Random forest             -3.3286256953565694\n",
      "Multi-layer perceptron    -5.691370274540527\n",
      "Support Vector Machine    -5.696666179579146\n"
     ]
    }
   ],
   "source": [
    "for k,v in sorted(models_result.items(), key=lambda entry:entry[1], reverse=True):\n",
    "    print(f'{k:25s} {v}')"
   ]
  }
 ],
 "metadata": {
  "kernelspec": {
   "display_name": "Python 3",
   "language": "python",
   "name": "python3"
  },
  "language_info": {
   "codemirror_mode": {
    "name": "ipython",
    "version": 3
   },
   "file_extension": ".py",
   "mimetype": "text/x-python",
   "name": "python",
   "nbconvert_exporter": "python",
   "pygments_lexer": "ipython3",
   "version": "3.7.7"
  }
 },
 "nbformat": 4,
 "nbformat_minor": 2
}
